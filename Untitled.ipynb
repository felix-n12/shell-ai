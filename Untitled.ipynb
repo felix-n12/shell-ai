{
 "cells": [
  {
   "cell_type": "markdown",
   "metadata": {},
   "source": [
    "## AGRICULTURAL WASTE COLLECTION SYSTEM"
   ]
  },
  {
   "cell_type": "markdown",
   "metadata": {},
   "source": [
    "### Data Understanding"
   ]
  },
  {
   "cell_type": "markdown",
   "metadata": {},
   "source": [
    "The dataset contains two files:\n",
    "* Biomass_history - A time-series of biomass availability in the state of Gujarat from year 2010 to 2017. We have considered arable land as a map of 2418 equisized grid blocks (harvesting sites). For ease of use, we have flattened the map and provided location index, latitude, longitude, and year wise biomass availability for each harvesting site\n",
    "\n",
    "* Distance_Matrix-The travel distance from source grid block to destination grid block, provided as a 2418 x 2418 matrix. Note that this is not a symmetric matrix due to U-turns, one-ways etc. that may result into different distances for ‘to’ and ‘fro’ journey between source and destination.\n",
    "\n",
    "\n"
   ]
  },
  {
   "cell_type": "code",
   "execution_count": 1,
   "metadata": {},
   "outputs": [],
   "source": [
    "#import relevant libraries\n",
    "import pandas as pd\n",
    "import numpy as np\n",
    "import matplotlib.pyplot as plt"
   ]
  },
  {
   "cell_type": "code",
   "execution_count": 6,
   "metadata": {},
   "outputs": [
    {
     "data": {
      "text/html": [
       "<div>\n",
       "<style scoped>\n",
       "    .dataframe tbody tr th:only-of-type {\n",
       "        vertical-align: middle;\n",
       "    }\n",
       "\n",
       "    .dataframe tbody tr th {\n",
       "        vertical-align: top;\n",
       "    }\n",
       "\n",
       "    .dataframe thead th {\n",
       "        text-align: right;\n",
       "    }\n",
       "</style>\n",
       "<table border=\"1\" class=\"dataframe\">\n",
       "  <thead>\n",
       "    <tr style=\"text-align: right;\">\n",
       "      <th></th>\n",
       "      <th>Latitude</th>\n",
       "      <th>Longitude</th>\n",
       "      <th>2010</th>\n",
       "      <th>2011</th>\n",
       "      <th>2012</th>\n",
       "      <th>2013</th>\n",
       "      <th>2014</th>\n",
       "      <th>2015</th>\n",
       "      <th>2016</th>\n",
       "      <th>2017</th>\n",
       "    </tr>\n",
       "    <tr>\n",
       "      <th>Index</th>\n",
       "      <th></th>\n",
       "      <th></th>\n",
       "      <th></th>\n",
       "      <th></th>\n",
       "      <th></th>\n",
       "      <th></th>\n",
       "      <th></th>\n",
       "      <th></th>\n",
       "      <th></th>\n",
       "      <th></th>\n",
       "    </tr>\n",
       "  </thead>\n",
       "  <tbody>\n",
       "    <tr>\n",
       "      <th>0</th>\n",
       "      <td>24.66818</td>\n",
       "      <td>71.33144</td>\n",
       "      <td>8.475744</td>\n",
       "      <td>8.868568</td>\n",
       "      <td>9.202181</td>\n",
       "      <td>6.023070</td>\n",
       "      <td>10.788374</td>\n",
       "      <td>6.647325</td>\n",
       "      <td>7.387925</td>\n",
       "      <td>5.180296</td>\n",
       "    </tr>\n",
       "    <tr>\n",
       "      <th>1</th>\n",
       "      <td>24.66818</td>\n",
       "      <td>71.41106</td>\n",
       "      <td>24.029778</td>\n",
       "      <td>28.551348</td>\n",
       "      <td>25.866415</td>\n",
       "      <td>21.634459</td>\n",
       "      <td>34.419411</td>\n",
       "      <td>27.361908</td>\n",
       "      <td>40.431847</td>\n",
       "      <td>42.126946</td>\n",
       "    </tr>\n",
       "    <tr>\n",
       "      <th>2</th>\n",
       "      <td>24.66818</td>\n",
       "      <td>71.49069</td>\n",
       "      <td>44.831635</td>\n",
       "      <td>66.111168</td>\n",
       "      <td>56.982258</td>\n",
       "      <td>53.003735</td>\n",
       "      <td>70.917908</td>\n",
       "      <td>42.517117</td>\n",
       "      <td>59.181629</td>\n",
       "      <td>73.203232</td>\n",
       "    </tr>\n",
       "    <tr>\n",
       "      <th>3</th>\n",
       "      <td>24.66818</td>\n",
       "      <td>71.57031</td>\n",
       "      <td>59.974419</td>\n",
       "      <td>80.821304</td>\n",
       "      <td>78.956543</td>\n",
       "      <td>63.160561</td>\n",
       "      <td>93.513924</td>\n",
       "      <td>70.203171</td>\n",
       "      <td>74.536720</td>\n",
       "      <td>101.067352</td>\n",
       "    </tr>\n",
       "    <tr>\n",
       "      <th>4</th>\n",
       "      <td>24.66818</td>\n",
       "      <td>71.64994</td>\n",
       "      <td>14.653370</td>\n",
       "      <td>19.327524</td>\n",
       "      <td>21.928144</td>\n",
       "      <td>17.899586</td>\n",
       "      <td>19.534035</td>\n",
       "      <td>19.165791</td>\n",
       "      <td>16.531315</td>\n",
       "      <td>26.086885</td>\n",
       "    </tr>\n",
       "  </tbody>\n",
       "</table>\n",
       "</div>"
      ],
      "text/plain": [
       "       Latitude  Longitude       2010       2011       2012       2013  \\\n",
       "Index                                                                    \n",
       "0      24.66818   71.33144   8.475744   8.868568   9.202181   6.023070   \n",
       "1      24.66818   71.41106  24.029778  28.551348  25.866415  21.634459   \n",
       "2      24.66818   71.49069  44.831635  66.111168  56.982258  53.003735   \n",
       "3      24.66818   71.57031  59.974419  80.821304  78.956543  63.160561   \n",
       "4      24.66818   71.64994  14.653370  19.327524  21.928144  17.899586   \n",
       "\n",
       "            2014       2015       2016        2017  \n",
       "Index                                               \n",
       "0      10.788374   6.647325   7.387925    5.180296  \n",
       "1      34.419411  27.361908  40.431847   42.126946  \n",
       "2      70.917908  42.517117  59.181629   73.203232  \n",
       "3      93.513924  70.203171  74.536720  101.067352  \n",
       "4      19.534035  19.165791  16.531315   26.086885  "
      ]
     },
     "execution_count": 6,
     "metadata": {},
     "output_type": "execute_result"
    }
   ],
   "source": [
    "#preview first five rows of Biomass_History data\n",
    "biomass = pd.read_csv('data/Biomass_History.csv',index_col='Index')\n",
    "biomass.head()"
   ]
  },
  {
   "cell_type": "code",
   "execution_count": 10,
   "metadata": {},
   "outputs": [
    {
     "data": {
      "text/html": [
       "<div>\n",
       "<style scoped>\n",
       "    .dataframe tbody tr th:only-of-type {\n",
       "        vertical-align: middle;\n",
       "    }\n",
       "\n",
       "    .dataframe tbody tr th {\n",
       "        vertical-align: top;\n",
       "    }\n",
       "\n",
       "    .dataframe thead th {\n",
       "        text-align: right;\n",
       "    }\n",
       "</style>\n",
       "<table border=\"1\" class=\"dataframe\">\n",
       "  <thead>\n",
       "    <tr style=\"text-align: right;\">\n",
       "      <th></th>\n",
       "      <th>Latitude</th>\n",
       "      <th>Longitude</th>\n",
       "      <th>2010</th>\n",
       "      <th>2011</th>\n",
       "      <th>2012</th>\n",
       "      <th>2013</th>\n",
       "      <th>2014</th>\n",
       "      <th>2015</th>\n",
       "      <th>2016</th>\n",
       "      <th>2017</th>\n",
       "    </tr>\n",
       "    <tr>\n",
       "      <th>Index</th>\n",
       "      <th></th>\n",
       "      <th></th>\n",
       "      <th></th>\n",
       "      <th></th>\n",
       "      <th></th>\n",
       "      <th></th>\n",
       "      <th></th>\n",
       "      <th></th>\n",
       "      <th></th>\n",
       "      <th></th>\n",
       "    </tr>\n",
       "  </thead>\n",
       "  <tbody>\n",
       "    <tr>\n",
       "      <th>2413</th>\n",
       "      <td>20.15456</td>\n",
       "      <td>72.84432</td>\n",
       "      <td>5.199882</td>\n",
       "      <td>4.516778</td>\n",
       "      <td>4.321080</td>\n",
       "      <td>2.658953</td>\n",
       "      <td>5.113997</td>\n",
       "      <td>5.301668</td>\n",
       "      <td>6.419223</td>\n",
       "      <td>5.321604</td>\n",
       "    </tr>\n",
       "    <tr>\n",
       "      <th>2414</th>\n",
       "      <td>20.15456</td>\n",
       "      <td>72.92394</td>\n",
       "      <td>0.122287</td>\n",
       "      <td>0.126717</td>\n",
       "      <td>0.101494</td>\n",
       "      <td>0.111509</td>\n",
       "      <td>0.121749</td>\n",
       "      <td>0.122467</td>\n",
       "      <td>0.145785</td>\n",
       "      <td>0.120626</td>\n",
       "    </tr>\n",
       "    <tr>\n",
       "      <th>2415</th>\n",
       "      <td>20.15456</td>\n",
       "      <td>73.00357</td>\n",
       "      <td>0.039415</td>\n",
       "      <td>0.040843</td>\n",
       "      <td>0.032713</td>\n",
       "      <td>0.035941</td>\n",
       "      <td>0.039241</td>\n",
       "      <td>0.039473</td>\n",
       "      <td>0.046989</td>\n",
       "      <td>0.038879</td>\n",
       "    </tr>\n",
       "    <tr>\n",
       "      <th>2416</th>\n",
       "      <td>20.15456</td>\n",
       "      <td>73.08319</td>\n",
       "      <td>2.719220</td>\n",
       "      <td>1.370163</td>\n",
       "      <td>0.818687</td>\n",
       "      <td>1.205721</td>\n",
       "      <td>1.316443</td>\n",
       "      <td>1.324201</td>\n",
       "      <td>1.576338</td>\n",
       "      <td>1.304297</td>\n",
       "    </tr>\n",
       "    <tr>\n",
       "      <th>2417</th>\n",
       "      <td>20.15456</td>\n",
       "      <td>73.16282</td>\n",
       "      <td>0.621228</td>\n",
       "      <td>0.238414</td>\n",
       "      <td>0.112909</td>\n",
       "      <td>0.209801</td>\n",
       "      <td>0.229067</td>\n",
       "      <td>0.230417</td>\n",
       "      <td>0.274289</td>\n",
       "      <td>0.226953</td>\n",
       "    </tr>\n",
       "  </tbody>\n",
       "</table>\n",
       "</div>"
      ],
      "text/plain": [
       "       Latitude  Longitude      2010      2011      2012      2013      2014  \\\n",
       "Index                                                                          \n",
       "2413   20.15456   72.84432  5.199882  4.516778  4.321080  2.658953  5.113997   \n",
       "2414   20.15456   72.92394  0.122287  0.126717  0.101494  0.111509  0.121749   \n",
       "2415   20.15456   73.00357  0.039415  0.040843  0.032713  0.035941  0.039241   \n",
       "2416   20.15456   73.08319  2.719220  1.370163  0.818687  1.205721  1.316443   \n",
       "2417   20.15456   73.16282  0.621228  0.238414  0.112909  0.209801  0.229067   \n",
       "\n",
       "           2015      2016      2017  \n",
       "Index                                \n",
       "2413   5.301668  6.419223  5.321604  \n",
       "2414   0.122467  0.145785  0.120626  \n",
       "2415   0.039473  0.046989  0.038879  \n",
       "2416   1.324201  1.576338  1.304297  \n",
       "2417   0.230417  0.274289  0.226953  "
      ]
     },
     "execution_count": 10,
     "metadata": {},
     "output_type": "execute_result"
    }
   ],
   "source": [
    "#preview last five rows of Biomass_History data\n",
    "biomass.tail()"
   ]
  },
  {
   "cell_type": "code",
   "execution_count": 8,
   "metadata": {},
   "outputs": [
    {
     "name": "stdout",
     "output_type": "stream",
     "text": [
      "<class 'pandas.core.frame.DataFrame'>\n",
      "Int64Index: 2418 entries, 0 to 2417\n",
      "Data columns (total 10 columns):\n",
      " #   Column     Non-Null Count  Dtype  \n",
      "---  ------     --------------  -----  \n",
      " 0   Latitude   2418 non-null   float64\n",
      " 1   Longitude  2418 non-null   float64\n",
      " 2   2010       2418 non-null   float64\n",
      " 3   2011       2418 non-null   float64\n",
      " 4   2012       2418 non-null   float64\n",
      " 5   2013       2418 non-null   float64\n",
      " 6   2014       2418 non-null   float64\n",
      " 7   2015       2418 non-null   float64\n",
      " 8   2016       2418 non-null   float64\n",
      " 9   2017       2418 non-null   float64\n",
      "dtypes: float64(10)\n",
      "memory usage: 207.8 KB\n"
     ]
    }
   ],
   "source": [
    "#cheking the data_type\n",
    "#and entries in the data\n",
    "biomass.info()"
   ]
  },
  {
   "cell_type": "code",
   "execution_count": 9,
   "metadata": {},
   "outputs": [
    {
     "data": {
      "text/html": [
       "<div>\n",
       "<style scoped>\n",
       "    .dataframe tbody tr th:only-of-type {\n",
       "        vertical-align: middle;\n",
       "    }\n",
       "\n",
       "    .dataframe tbody tr th {\n",
       "        vertical-align: top;\n",
       "    }\n",
       "\n",
       "    .dataframe thead th {\n",
       "        text-align: right;\n",
       "    }\n",
       "</style>\n",
       "<table border=\"1\" class=\"dataframe\">\n",
       "  <thead>\n",
       "    <tr style=\"text-align: right;\">\n",
       "      <th></th>\n",
       "      <th>Latitude</th>\n",
       "      <th>Longitude</th>\n",
       "      <th>2010</th>\n",
       "      <th>2011</th>\n",
       "      <th>2012</th>\n",
       "      <th>2013</th>\n",
       "      <th>2014</th>\n",
       "      <th>2015</th>\n",
       "      <th>2016</th>\n",
       "      <th>2017</th>\n",
       "    </tr>\n",
       "  </thead>\n",
       "  <tbody>\n",
       "    <tr>\n",
       "      <th>count</th>\n",
       "      <td>2418.000000</td>\n",
       "      <td>2418.000000</td>\n",
       "      <td>2418.000000</td>\n",
       "      <td>2418.000000</td>\n",
       "      <td>2418.000000</td>\n",
       "      <td>2418.000000</td>\n",
       "      <td>2418.000000</td>\n",
       "      <td>2418.000000</td>\n",
       "      <td>2418.000000</td>\n",
       "      <td>2418.000000</td>\n",
       "    </tr>\n",
       "    <tr>\n",
       "      <th>mean</th>\n",
       "      <td>22.506537</td>\n",
       "      <td>71.826215</td>\n",
       "      <td>144.401424</td>\n",
       "      <td>150.860247</td>\n",
       "      <td>109.468899</td>\n",
       "      <td>161.886430</td>\n",
       "      <td>157.954024</td>\n",
       "      <td>132.898633</td>\n",
       "      <td>113.089323</td>\n",
       "      <td>159.163367</td>\n",
       "    </tr>\n",
       "    <tr>\n",
       "      <th>std</th>\n",
       "      <td>1.034936</td>\n",
       "      <td>1.389804</td>\n",
       "      <td>146.506351</td>\n",
       "      <td>142.264612</td>\n",
       "      <td>110.249714</td>\n",
       "      <td>180.337708</td>\n",
       "      <td>139.870466</td>\n",
       "      <td>129.689111</td>\n",
       "      <td>102.092570</td>\n",
       "      <td>158.993069</td>\n",
       "    </tr>\n",
       "    <tr>\n",
       "      <th>min</th>\n",
       "      <td>20.154560</td>\n",
       "      <td>68.624190</td>\n",
       "      <td>0.000167</td>\n",
       "      <td>0.000433</td>\n",
       "      <td>0.000290</td>\n",
       "      <td>0.000532</td>\n",
       "      <td>0.000155</td>\n",
       "      <td>0.000072</td>\n",
       "      <td>0.000151</td>\n",
       "      <td>0.000191</td>\n",
       "    </tr>\n",
       "    <tr>\n",
       "      <th>25%</th>\n",
       "      <td>21.685970</td>\n",
       "      <td>70.774060</td>\n",
       "      <td>23.449163</td>\n",
       "      <td>25.576084</td>\n",
       "      <td>22.711070</td>\n",
       "      <td>27.044554</td>\n",
       "      <td>31.514698</td>\n",
       "      <td>22.732275</td>\n",
       "      <td>22.658495</td>\n",
       "      <td>26.064368</td>\n",
       "    </tr>\n",
       "    <tr>\n",
       "      <th>50%</th>\n",
       "      <td>22.491970</td>\n",
       "      <td>71.888820</td>\n",
       "      <td>112.298855</td>\n",
       "      <td>126.291077</td>\n",
       "      <td>82.271317</td>\n",
       "      <td>117.662296</td>\n",
       "      <td>136.859337</td>\n",
       "      <td>106.789989</td>\n",
       "      <td>91.721931</td>\n",
       "      <td>120.519817</td>\n",
       "    </tr>\n",
       "    <tr>\n",
       "      <th>75%</th>\n",
       "      <td>23.297970</td>\n",
       "      <td>73.003570</td>\n",
       "      <td>207.689327</td>\n",
       "      <td>226.197079</td>\n",
       "      <td>163.512547</td>\n",
       "      <td>222.835739</td>\n",
       "      <td>241.965115</td>\n",
       "      <td>196.102222</td>\n",
       "      <td>177.136295</td>\n",
       "      <td>231.067348</td>\n",
       "    </tr>\n",
       "    <tr>\n",
       "      <th>max</th>\n",
       "      <td>24.668180</td>\n",
       "      <td>74.436820</td>\n",
       "      <td>883.691711</td>\n",
       "      <td>771.061646</td>\n",
       "      <td>871.800415</td>\n",
       "      <td>1232.853760</td>\n",
       "      <td>871.800415</td>\n",
       "      <td>771.061646</td>\n",
       "      <td>514.148987</td>\n",
       "      <td>883.691711</td>\n",
       "    </tr>\n",
       "  </tbody>\n",
       "</table>\n",
       "</div>"
      ],
      "text/plain": [
       "          Latitude    Longitude         2010         2011         2012  \\\n",
       "count  2418.000000  2418.000000  2418.000000  2418.000000  2418.000000   \n",
       "mean     22.506537    71.826215   144.401424   150.860247   109.468899   \n",
       "std       1.034936     1.389804   146.506351   142.264612   110.249714   \n",
       "min      20.154560    68.624190     0.000167     0.000433     0.000290   \n",
       "25%      21.685970    70.774060    23.449163    25.576084    22.711070   \n",
       "50%      22.491970    71.888820   112.298855   126.291077    82.271317   \n",
       "75%      23.297970    73.003570   207.689327   226.197079   163.512547   \n",
       "max      24.668180    74.436820   883.691711   771.061646   871.800415   \n",
       "\n",
       "              2013         2014         2015         2016         2017  \n",
       "count  2418.000000  2418.000000  2418.000000  2418.000000  2418.000000  \n",
       "mean    161.886430   157.954024   132.898633   113.089323   159.163367  \n",
       "std     180.337708   139.870466   129.689111   102.092570   158.993069  \n",
       "min       0.000532     0.000155     0.000072     0.000151     0.000191  \n",
       "25%      27.044554    31.514698    22.732275    22.658495    26.064368  \n",
       "50%     117.662296   136.859337   106.789989    91.721931   120.519817  \n",
       "75%     222.835739   241.965115   196.102222   177.136295   231.067348  \n",
       "max    1232.853760   871.800415   771.061646   514.148987   883.691711  "
      ]
     },
     "execution_count": 9,
     "metadata": {},
     "output_type": "execute_result"
    }
   ],
   "source": [
    "#Summary statistics for Biomass_History\n",
    "biomass.describe()"
   ]
  },
  {
   "cell_type": "markdown",
   "metadata": {},
   "source": [
    "The Latitude and Longitude columns will be removed since we wont need them since each index is a different location "
   ]
  },
  {
   "cell_type": "markdown",
   "metadata": {},
   "source": [
    "### Data preparation"
   ]
  },
  {
   "cell_type": "markdown",
   "metadata": {},
   "source": [
    "This section will involve checking for:\n",
    "\n",
    "* Completeness : Checking for missing values\n",
    "* Inconsistency : Checking for duplicates\n",
    "* Validity : Checking for outliers\n",
    "* Uniformity : Checking whether the data types "
   ]
  },
  {
   "cell_type": "code",
   "execution_count": 13,
   "metadata": {},
   "outputs": [
    {
     "data": {
      "text/plain": [
       "Latitude     0\n",
       "Longitude    0\n",
       "2010         0\n",
       "2011         0\n",
       "2012         0\n",
       "2013         0\n",
       "2014         0\n",
       "2015         0\n",
       "2016         0\n",
       "2017         0\n",
       "dtype: int64"
      ]
     },
     "execution_count": 13,
     "metadata": {},
     "output_type": "execute_result"
    }
   ],
   "source": [
    "## Completeness\n",
    "biomass.isna().sum()"
   ]
  },
  {
   "cell_type": "markdown",
   "metadata": {},
   "source": [
    "There are no missing values "
   ]
  },
  {
   "cell_type": "code",
   "execution_count": 14,
   "metadata": {},
   "outputs": [
    {
     "data": {
      "text/plain": [
       "0"
      ]
     },
     "execution_count": 14,
     "metadata": {},
     "output_type": "execute_result"
    }
   ],
   "source": [
    "biomass.duplicated().sum()"
   ]
  },
  {
   "cell_type": "markdown",
   "metadata": {},
   "source": [
    "There are no duplicates in the data"
   ]
  },
  {
   "cell_type": "code",
   "execution_count": 15,
   "metadata": {},
   "outputs": [
    {
     "data": {
      "text/plain": [
       "<AxesSubplot:>"
      ]
     },
     "execution_count": 15,
     "metadata": {},
     "output_type": "execute_result"
    },
    {
     "data": {
      "image/png": "[encoded data removed]",
      "text/plain": [
       "<Figure size 432x288 with 1 Axes>"
      ]
     },
     "metadata": {
      "needs_background": "light"
     },
     "output_type": "display_data"
    }
   ],
   "source": [
    "biomass.boxplot()"
   ]
  },
  {
   "cell_type": "markdown",
   "metadata": {},
   "source": [
    "The outliers seem genuine so we wont remove them"
   ]
  },
  {
   "cell_type": "code",
   "execution_count": 19,
   "metadata": {},
   "outputs": [
    {
     "data": {
      "text/plain": [
       "Latitude     float64\n",
       "Longitude    float64\n",
       "2010         float64\n",
       "2011         float64\n",
       "2012         float64\n",
       "2013         float64\n",
       "2014         float64\n",
       "2015         float64\n",
       "2016         float64\n",
       "2017         float64\n",
       "dtype: object"
      ]
     },
     "execution_count": 19,
     "metadata": {},
     "output_type": "execute_result"
    }
   ],
   "source": [
    "biomass.dtypes"
   ]
  },
  {
   "cell_type": "markdown",
   "metadata": {},
   "source": [
    "The data types correspond to the data \n"
   ]
  },
  {
   "cell_type": "code",
   "execution_count": null,
   "metadata": {},
   "outputs": [],
   "source": []
  }
 ],
 "metadata": {
  "kernelspec": {
   "display_name": "Python (learn-env)",
   "language": "python",
   "name": "learn-env"
  },
  "language_info": {
   "codemirror_mode": {
    "name": "ipython",
    "version": 3
   },
   "file_extension": ".py",
   "mimetype": "text/x-python",
   "name": "python",
   "nbconvert_exporter": "python",
   "pygments_lexer": "ipython3",
   "version": "3.8.5"
  }
 },
 "nbformat": 4,
 "nbformat_minor": 4
}
