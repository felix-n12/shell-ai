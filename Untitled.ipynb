{
 "cells": [
  {
   "cell_type": "markdown",
   "metadata": {},
   "source": [
    "## AGRICULTURAL WASTE COLLECTION SYSTEM"
   ]
  },
  {
   "cell_type": "markdown",
   "metadata": {},
   "source": [
    "## Overview"
   ]
  },
  {
   "cell_type": "markdown",
   "metadata": {},
   "source": [
    "### Data Understanding"
   ]
  },
  {
   "cell_type": "markdown",
   "metadata": {},
   "source": [
    "The dataset contains two files:\n",
    "* Biomass_history - A time-series of biomass availability in the state of Gujarat from year 2010 to 2017. We have considered arable land as a map of 2418 equisized grid blocks (harvesting sites). For ease of use, we have flattened the map and provided location index, latitude, longitude, and year wise biomass availability for each harvesting site\n",
    "\n",
    "* Distance_Matrix-The travel distance from source grid block to destination grid block, provided as a 2418 x 2418 matrix. Note that this is not a symmetric matrix due to U-turns, one-ways etc. that may result into different distances for ‘to’ and ‘fro’ journey between source and destination.\n",
    "\n",
    "\n"
   ]
  },
  {
   "cell_type": "code",
   "execution_count": 1,
   "metadata": {},
   "outputs": [],
   "source": [
    "#import relevant libraries\n",
    "import pandas as pd\n",
    "import numpy as np\n",
    "import matplotlib.pyplot as plt"
   ]
  },
  {
   "cell_type": "code",
   "execution_count": 2,
   "metadata": {},
   "outputs": [
    {
     "data": {
      "text/html": [
       "<div>\n",
       "<style scoped>\n",
       "    .dataframe tbody tr th:only-of-type {\n",
       "        vertical-align: middle;\n",
       "    }\n",
       "\n",
       "    .dataframe tbody tr th {\n",
       "        vertical-align: top;\n",
       "    }\n",
       "\n",
       "    .dataframe thead th {\n",
       "        text-align: right;\n",
       "    }\n",
       "</style>\n",
       "<table border=\"1\" class=\"dataframe\">\n",
       "  <thead>\n",
       "    <tr style=\"text-align: right;\">\n",
       "      <th></th>\n",
       "      <th>Latitude</th>\n",
       "      <th>Longitude</th>\n",
       "      <th>2010</th>\n",
       "      <th>2011</th>\n",
       "      <th>2012</th>\n",
       "      <th>2013</th>\n",
       "      <th>2014</th>\n",
       "      <th>2015</th>\n",
       "      <th>2016</th>\n",
       "      <th>2017</th>\n",
       "    </tr>\n",
       "    <tr>\n",
       "      <th>Index</th>\n",
       "      <th></th>\n",
       "      <th></th>\n",
       "      <th></th>\n",
       "      <th></th>\n",
       "      <th></th>\n",
       "      <th></th>\n",
       "      <th></th>\n",
       "      <th></th>\n",
       "      <th></th>\n",
       "      <th></th>\n",
       "    </tr>\n",
       "  </thead>\n",
       "  <tbody>\n",
       "    <tr>\n",
       "      <th>0</th>\n",
       "      <td>24.66818</td>\n",
       "      <td>71.33144</td>\n",
       "      <td>8.475744</td>\n",
       "      <td>8.868568</td>\n",
       "      <td>9.202181</td>\n",
       "      <td>6.023070</td>\n",
       "      <td>10.788374</td>\n",
       "      <td>6.647325</td>\n",
       "      <td>7.387925</td>\n",
       "      <td>5.180296</td>\n",
       "    </tr>\n",
       "    <tr>\n",
       "      <th>1</th>\n",
       "      <td>24.66818</td>\n",
       "      <td>71.41106</td>\n",
       "      <td>24.029778</td>\n",
       "      <td>28.551348</td>\n",
       "      <td>25.866415</td>\n",
       "      <td>21.634459</td>\n",
       "      <td>34.419411</td>\n",
       "      <td>27.361908</td>\n",
       "      <td>40.431847</td>\n",
       "      <td>42.126946</td>\n",
       "    </tr>\n",
       "    <tr>\n",
       "      <th>2</th>\n",
       "      <td>24.66818</td>\n",
       "      <td>71.49069</td>\n",
       "      <td>44.831635</td>\n",
       "      <td>66.111168</td>\n",
       "      <td>56.982258</td>\n",
       "      <td>53.003735</td>\n",
       "      <td>70.917908</td>\n",
       "      <td>42.517117</td>\n",
       "      <td>59.181629</td>\n",
       "      <td>73.203232</td>\n",
       "    </tr>\n",
       "    <tr>\n",
       "      <th>3</th>\n",
       "      <td>24.66818</td>\n",
       "      <td>71.57031</td>\n",
       "      <td>59.974419</td>\n",
       "      <td>80.821304</td>\n",
       "      <td>78.956543</td>\n",
       "      <td>63.160561</td>\n",
       "      <td>93.513924</td>\n",
       "      <td>70.203171</td>\n",
       "      <td>74.536720</td>\n",
       "      <td>101.067352</td>\n",
       "    </tr>\n",
       "    <tr>\n",
       "      <th>4</th>\n",
       "      <td>24.66818</td>\n",
       "      <td>71.64994</td>\n",
       "      <td>14.653370</td>\n",
       "      <td>19.327524</td>\n",
       "      <td>21.928144</td>\n",
       "      <td>17.899586</td>\n",
       "      <td>19.534035</td>\n",
       "      <td>19.165791</td>\n",
       "      <td>16.531315</td>\n",
       "      <td>26.086885</td>\n",
       "    </tr>\n",
       "  </tbody>\n",
       "</table>\n",
       "</div>"
      ],
      "text/plain": [
       "       Latitude  Longitude       2010       2011       2012       2013  \\\n",
       "Index                                                                    \n",
       "0      24.66818   71.33144   8.475744   8.868568   9.202181   6.023070   \n",
       "1      24.66818   71.41106  24.029778  28.551348  25.866415  21.634459   \n",
       "2      24.66818   71.49069  44.831635  66.111168  56.982258  53.003735   \n",
       "3      24.66818   71.57031  59.974419  80.821304  78.956543  63.160561   \n",
       "4      24.66818   71.64994  14.653370  19.327524  21.928144  17.899586   \n",
       "\n",
       "            2014       2015       2016        2017  \n",
       "Index                                               \n",
       "0      10.788374   6.647325   7.387925    5.180296  \n",
       "1      34.419411  27.361908  40.431847   42.126946  \n",
       "2      70.917908  42.517117  59.181629   73.203232  \n",
       "3      93.513924  70.203171  74.536720  101.067352  \n",
       "4      19.534035  19.165791  16.531315   26.086885  "
      ]
     },
     "execution_count": 2,
     "metadata": {},
     "output_type": "execute_result"
    }
   ],
   "source": [
    "#preview first five rows of Biomass_History data\n",
    "biomass = pd.read_csv('data/Biomass_History.csv',index_col='Index')\n",
    "biomass.head()"
   ]
  },
  {
   "cell_type": "code",
   "execution_count": 3,
   "metadata": {},
   "outputs": [
    {
     "data": {
      "text/html": [
       "<div>\n",
       "<style scoped>\n",
       "    .dataframe tbody tr th:only-of-type {\n",
       "        vertical-align: middle;\n",
       "    }\n",
       "\n",
       "    .dataframe tbody tr th {\n",
       "        vertical-align: top;\n",
       "    }\n",
       "\n",
       "    .dataframe thead th {\n",
       "        text-align: right;\n",
       "    }\n",
       "</style>\n",
       "<table border=\"1\" class=\"dataframe\">\n",
       "  <thead>\n",
       "    <tr style=\"text-align: right;\">\n",
       "      <th></th>\n",
       "      <th>Latitude</th>\n",
       "      <th>Longitude</th>\n",
       "      <th>2010</th>\n",
       "      <th>2011</th>\n",
       "      <th>2012</th>\n",
       "      <th>2013</th>\n",
       "      <th>2014</th>\n",
       "      <th>2015</th>\n",
       "      <th>2016</th>\n",
       "      <th>2017</th>\n",
       "    </tr>\n",
       "    <tr>\n",
       "      <th>Index</th>\n",
       "      <th></th>\n",
       "      <th></th>\n",
       "      <th></th>\n",
       "      <th></th>\n",
       "      <th></th>\n",
       "      <th></th>\n",
       "      <th></th>\n",
       "      <th></th>\n",
       "      <th></th>\n",
       "      <th></th>\n",
       "    </tr>\n",
       "  </thead>\n",
       "  <tbody>\n",
       "    <tr>\n",
       "      <th>2413</th>\n",
       "      <td>20.15456</td>\n",
       "      <td>72.84432</td>\n",
       "      <td>5.199882</td>\n",
       "      <td>4.516778</td>\n",
       "      <td>4.321080</td>\n",
       "      <td>2.658953</td>\n",
       "      <td>5.113997</td>\n",
       "      <td>5.301668</td>\n",
       "      <td>6.419223</td>\n",
       "      <td>5.321604</td>\n",
       "    </tr>\n",
       "    <tr>\n",
       "      <th>2414</th>\n",
       "      <td>20.15456</td>\n",
       "      <td>72.92394</td>\n",
       "      <td>0.122287</td>\n",
       "      <td>0.126717</td>\n",
       "      <td>0.101494</td>\n",
       "      <td>0.111509</td>\n",
       "      <td>0.121749</td>\n",
       "      <td>0.122467</td>\n",
       "      <td>0.145785</td>\n",
       "      <td>0.120626</td>\n",
       "    </tr>\n",
       "    <tr>\n",
       "      <th>2415</th>\n",
       "      <td>20.15456</td>\n",
       "      <td>73.00357</td>\n",
       "      <td>0.039415</td>\n",
       "      <td>0.040843</td>\n",
       "      <td>0.032713</td>\n",
       "      <td>0.035941</td>\n",
       "      <td>0.039241</td>\n",
       "      <td>0.039473</td>\n",
       "      <td>0.046989</td>\n",
       "      <td>0.038879</td>\n",
       "    </tr>\n",
       "    <tr>\n",
       "      <th>2416</th>\n",
       "      <td>20.15456</td>\n",
       "      <td>73.08319</td>\n",
       "      <td>2.719220</td>\n",
       "      <td>1.370163</td>\n",
       "      <td>0.818687</td>\n",
       "      <td>1.205721</td>\n",
       "      <td>1.316443</td>\n",
       "      <td>1.324201</td>\n",
       "      <td>1.576338</td>\n",
       "      <td>1.304297</td>\n",
       "    </tr>\n",
       "    <tr>\n",
       "      <th>2417</th>\n",
       "      <td>20.15456</td>\n",
       "      <td>73.16282</td>\n",
       "      <td>0.621228</td>\n",
       "      <td>0.238414</td>\n",
       "      <td>0.112909</td>\n",
       "      <td>0.209801</td>\n",
       "      <td>0.229067</td>\n",
       "      <td>0.230417</td>\n",
       "      <td>0.274289</td>\n",
       "      <td>0.226953</td>\n",
       "    </tr>\n",
       "  </tbody>\n",
       "</table>\n",
       "</div>"
      ],
      "text/plain": [
       "       Latitude  Longitude      2010      2011      2012      2013      2014  \\\n",
       "Index                                                                          \n",
       "2413   20.15456   72.84432  5.199882  4.516778  4.321080  2.658953  5.113997   \n",
       "2414   20.15456   72.92394  0.122287  0.126717  0.101494  0.111509  0.121749   \n",
       "2415   20.15456   73.00357  0.039415  0.040843  0.032713  0.035941  0.039241   \n",
       "2416   20.15456   73.08319  2.719220  1.370163  0.818687  1.205721  1.316443   \n",
       "2417   20.15456   73.16282  0.621228  0.238414  0.112909  0.209801  0.229067   \n",
       "\n",
       "           2015      2016      2017  \n",
       "Index                                \n",
       "2413   5.301668  6.419223  5.321604  \n",
       "2414   0.122467  0.145785  0.120626  \n",
       "2415   0.039473  0.046989  0.038879  \n",
       "2416   1.324201  1.576338  1.304297  \n",
       "2417   0.230417  0.274289  0.226953  "
      ]
     },
     "execution_count": 3,
     "metadata": {},
     "output_type": "execute_result"
    }
   ],
   "source": [
    "#preview last five rows of Biomass_History data\n",
    "biomass.tail()"
   ]
  },
  {
   "cell_type": "code",
   "execution_count": 4,
   "metadata": {},
   "outputs": [
    {
     "name": "stdout",
     "output_type": "stream",
     "text": [
      "<class 'pandas.core.frame.DataFrame'>\n",
      "Int64Index: 2418 entries, 0 to 2417\n",
      "Data columns (total 10 columns):\n",
      " #   Column     Non-Null Count  Dtype  \n",
      "---  ------     --------------  -----  \n",
      " 0   Latitude   2418 non-null   float64\n",
      " 1   Longitude  2418 non-null   float64\n",
      " 2   2010       2418 non-null   float64\n",
      " 3   2011       2418 non-null   float64\n",
      " 4   2012       2418 non-null   float64\n",
      " 5   2013       2418 non-null   float64\n",
      " 6   2014       2418 non-null   float64\n",
      " 7   2015       2418 non-null   float64\n",
      " 8   2016       2418 non-null   float64\n",
      " 9   2017       2418 non-null   float64\n",
      "dtypes: float64(10)\n",
      "memory usage: 207.8 KB\n"
     ]
    }
   ],
   "source": [
    "#cheking the data_type\n",
    "#and entries in the data\n",
    "biomass.info()"
   ]
  },
  {
   "cell_type": "code",
   "execution_count": 5,
   "metadata": {},
   "outputs": [
    {
     "data": {
      "text/html": [
       "<div>\n",
       "<style scoped>\n",
       "    .dataframe tbody tr th:only-of-type {\n",
       "        vertical-align: middle;\n",
       "    }\n",
       "\n",
       "    .dataframe tbody tr th {\n",
       "        vertical-align: top;\n",
       "    }\n",
       "\n",
       "    .dataframe thead th {\n",
       "        text-align: right;\n",
       "    }\n",
       "</style>\n",
       "<table border=\"1\" class=\"dataframe\">\n",
       "  <thead>\n",
       "    <tr style=\"text-align: right;\">\n",
       "      <th></th>\n",
       "      <th>Latitude</th>\n",
       "      <th>Longitude</th>\n",
       "      <th>2010</th>\n",
       "      <th>2011</th>\n",
       "      <th>2012</th>\n",
       "      <th>2013</th>\n",
       "      <th>2014</th>\n",
       "      <th>2015</th>\n",
       "      <th>2016</th>\n",
       "      <th>2017</th>\n",
       "    </tr>\n",
       "  </thead>\n",
       "  <tbody>\n",
       "    <tr>\n",
       "      <th>count</th>\n",
       "      <td>2418.000000</td>\n",
       "      <td>2418.000000</td>\n",
       "      <td>2418.000000</td>\n",
       "      <td>2418.000000</td>\n",
       "      <td>2418.000000</td>\n",
       "      <td>2418.000000</td>\n",
       "      <td>2418.000000</td>\n",
       "      <td>2418.000000</td>\n",
       "      <td>2418.000000</td>\n",
       "      <td>2418.000000</td>\n",
       "    </tr>\n",
       "    <tr>\n",
       "      <th>mean</th>\n",
       "      <td>22.506537</td>\n",
       "      <td>71.826215</td>\n",
       "      <td>144.401424</td>\n",
       "      <td>150.860247</td>\n",
       "      <td>109.468899</td>\n",
       "      <td>161.886430</td>\n",
       "      <td>157.954024</td>\n",
       "      <td>132.898633</td>\n",
       "      <td>113.089323</td>\n",
       "      <td>159.163367</td>\n",
       "    </tr>\n",
       "    <tr>\n",
       "      <th>std</th>\n",
       "      <td>1.034936</td>\n",
       "      <td>1.389804</td>\n",
       "      <td>146.506351</td>\n",
       "      <td>142.264612</td>\n",
       "      <td>110.249714</td>\n",
       "      <td>180.337708</td>\n",
       "      <td>139.870466</td>\n",
       "      <td>129.689111</td>\n",
       "      <td>102.092570</td>\n",
       "      <td>158.993069</td>\n",
       "    </tr>\n",
       "    <tr>\n",
       "      <th>min</th>\n",
       "      <td>20.154560</td>\n",
       "      <td>68.624190</td>\n",
       "      <td>0.000167</td>\n",
       "      <td>0.000433</td>\n",
       "      <td>0.000290</td>\n",
       "      <td>0.000532</td>\n",
       "      <td>0.000155</td>\n",
       "      <td>0.000072</td>\n",
       "      <td>0.000151</td>\n",
       "      <td>0.000191</td>\n",
       "    </tr>\n",
       "    <tr>\n",
       "      <th>25%</th>\n",
       "      <td>21.685970</td>\n",
       "      <td>70.774060</td>\n",
       "      <td>23.449163</td>\n",
       "      <td>25.576084</td>\n",
       "      <td>22.711070</td>\n",
       "      <td>27.044554</td>\n",
       "      <td>31.514698</td>\n",
       "      <td>22.732275</td>\n",
       "      <td>22.658495</td>\n",
       "      <td>26.064368</td>\n",
       "    </tr>\n",
       "    <tr>\n",
       "      <th>50%</th>\n",
       "      <td>22.491970</td>\n",
       "      <td>71.888820</td>\n",
       "      <td>112.298855</td>\n",
       "      <td>126.291077</td>\n",
       "      <td>82.271317</td>\n",
       "      <td>117.662296</td>\n",
       "      <td>136.859337</td>\n",
       "      <td>106.789989</td>\n",
       "      <td>91.721931</td>\n",
       "      <td>120.519817</td>\n",
       "    </tr>\n",
       "    <tr>\n",
       "      <th>75%</th>\n",
       "      <td>23.297970</td>\n",
       "      <td>73.003570</td>\n",
       "      <td>207.689327</td>\n",
       "      <td>226.197079</td>\n",
       "      <td>163.512547</td>\n",
       "      <td>222.835739</td>\n",
       "      <td>241.965115</td>\n",
       "      <td>196.102222</td>\n",
       "      <td>177.136295</td>\n",
       "      <td>231.067348</td>\n",
       "    </tr>\n",
       "    <tr>\n",
       "      <th>max</th>\n",
       "      <td>24.668180</td>\n",
       "      <td>74.436820</td>\n",
       "      <td>883.691711</td>\n",
       "      <td>771.061646</td>\n",
       "      <td>871.800415</td>\n",
       "      <td>1232.853760</td>\n",
       "      <td>871.800415</td>\n",
       "      <td>771.061646</td>\n",
       "      <td>514.148987</td>\n",
       "      <td>883.691711</td>\n",
       "    </tr>\n",
       "  </tbody>\n",
       "</table>\n",
       "</div>"
      ],
      "text/plain": [
       "          Latitude    Longitude         2010         2011         2012  \\\n",
       "count  2418.000000  2418.000000  2418.000000  2418.000000  2418.000000   \n",
       "mean     22.506537    71.826215   144.401424   150.860247   109.468899   \n",
       "std       1.034936     1.389804   146.506351   142.264612   110.249714   \n",
       "min      20.154560    68.624190     0.000167     0.000433     0.000290   \n",
       "25%      21.685970    70.774060    23.449163    25.576084    22.711070   \n",
       "50%      22.491970    71.888820   112.298855   126.291077    82.271317   \n",
       "75%      23.297970    73.003570   207.689327   226.197079   163.512547   \n",
       "max      24.668180    74.436820   883.691711   771.061646   871.800415   \n",
       "\n",
       "              2013         2014         2015         2016         2017  \n",
       "count  2418.000000  2418.000000  2418.000000  2418.000000  2418.000000  \n",
       "mean    161.886430   157.954024   132.898633   113.089323   159.163367  \n",
       "std     180.337708   139.870466   129.689111   102.092570   158.993069  \n",
       "min       0.000532     0.000155     0.000072     0.000151     0.000191  \n",
       "25%      27.044554    31.514698    22.732275    22.658495    26.064368  \n",
       "50%     117.662296   136.859337   106.789989    91.721931   120.519817  \n",
       "75%     222.835739   241.965115   196.102222   177.136295   231.067348  \n",
       "max    1232.853760   871.800415   771.061646   514.148987   883.691711  "
      ]
     },
     "execution_count": 5,
     "metadata": {},
     "output_type": "execute_result"
    }
   ],
   "source": [
    "#Summary statistics for Biomass_History\n",
    "biomass.describe()"
   ]
  },
  {
   "cell_type": "markdown",
   "metadata": {},
   "source": [
    "The largest biomass production was in 2013<br>\n",
    "The lowest biomass production was in 2015\n"
   ]
  },
  {
   "cell_type": "markdown",
   "metadata": {},
   "source": [
    "The Latitude and Longitude columns will be removed since we wont need them since each index is a different location "
   ]
  },
  {
   "cell_type": "code",
   "execution_count": 6,
   "metadata": {},
   "outputs": [],
   "source": [
    "#Removing the Latitude and Longitude columns\n",
    "biomass = biomass.drop(['Latitude','Longitude'],axis=1)"
   ]
  },
  {
   "cell_type": "code",
   "execution_count": 7,
   "metadata": {},
   "outputs": [],
   "source": [
    "#check for distribution of the data\n"
   ]
  },
  {
   "cell_type": "markdown",
   "metadata": {},
   "source": [
    "### Data preparation"
   ]
  },
  {
   "cell_type": "markdown",
   "metadata": {},
   "source": [
    "This section will involve checking for:\n",
    "\n",
    "* Completeness : Checking for missing values\n",
    "* Inconsistency : Checking for duplicates\n",
    "* Validity : Checking for outliers\n",
    "* Uniformity : Checking whether the data types "
   ]
  },
  {
   "cell_type": "code",
   "execution_count": 8,
   "metadata": {},
   "outputs": [
    {
     "data": {
      "text/plain": [
       "2010    0\n",
       "2011    0\n",
       "2012    0\n",
       "2013    0\n",
       "2014    0\n",
       "2015    0\n",
       "2016    0\n",
       "2017    0\n",
       "dtype: int64"
      ]
     },
     "execution_count": 8,
     "metadata": {},
     "output_type": "execute_result"
    }
   ],
   "source": [
    "## Completeness\n",
    "biomass.isna().sum()"
   ]
  },
  {
   "cell_type": "markdown",
   "metadata": {},
   "source": [
    "There are no missing values "
   ]
  },
  {
   "cell_type": "code",
   "execution_count": 9,
   "metadata": {},
   "outputs": [
    {
     "data": {
      "text/plain": [
       "0"
      ]
     },
     "execution_count": 9,
     "metadata": {},
     "output_type": "execute_result"
    }
   ],
   "source": [
    "biomass.duplicated().sum()"
   ]
  },
  {
   "cell_type": "markdown",
   "metadata": {},
   "source": [
    "There are no duplicates in the data"
   ]
  },
  {
   "cell_type": "code",
   "execution_count": 10,
   "metadata": {},
   "outputs": [
    {
     "data": {
      "text/plain": [
       "<AxesSubplot:>"
      ]
     },
     "execution_count": 10,
     "metadata": {},
     "output_type": "execute_result"
    },
    {
     "data": {
      "image/png": "[encoded data removed]",
      "text/plain": [
       "<Figure size 432x288 with 1 Axes>"
      ]
     },
     "metadata": {
      "needs_background": "light"
     },
     "output_type": "display_data"
    }
   ],
   "source": [
    "biomass.boxplot()"
   ]
  },
  {
   "cell_type": "markdown",
   "metadata": {},
   "source": [
    "The outliers seem genuine so we wont remove them"
   ]
  },
  {
   "cell_type": "code",
   "execution_count": 11,
   "metadata": {},
   "outputs": [
    {
     "data": {
      "text/plain": [
       "2010    float64\n",
       "2011    float64\n",
       "2012    float64\n",
       "2013    float64\n",
       "2014    float64\n",
       "2015    float64\n",
       "2016    float64\n",
       "2017    float64\n",
       "dtype: object"
      ]
     },
     "execution_count": 11,
     "metadata": {},
     "output_type": "execute_result"
    }
   ],
   "source": [
    "biomass.dtypes"
   ]
  },
  {
   "cell_type": "markdown",
   "metadata": {},
   "source": [
    "The data types correspond to the data \n"
   ]
  },
  {
   "cell_type": "markdown",
   "metadata": {},
   "source": [
    "## Modelling "
   ]
  },
  {
   "cell_type": "markdown",
   "metadata": {},
   "source": [
    "### Forecasting"
   ]
  },
  {
   "cell_type": "markdown",
   "metadata": {},
   "source": [
    "This section we will use the following models:\n",
    "* ARIMA\n",
    "* Facebook Prophet\n",
    "* Deep learning"
   ]
  },
  {
   "cell_type": "markdown",
   "metadata": {},
   "source": [
    "### ARIMA"
   ]
  },
  {
   "cell_type": "markdown",
   "metadata": {},
   "source": []
  },
  {
   "cell_type": "markdown",
   "metadata": {},
   "source": [
    "### Data preprocessing for ARIMA"
   ]
  },
  {
   "cell_type": "markdown",
   "metadata": {},
   "source": [
    "This section involves checking for:\n",
    "* Trends\n",
    "* Seasonality\n",
    "* Autocorrelation\n",
    "\n",
    "\n",
    " \n"
   ]
  },
  {
   "cell_type": "code",
   "execution_count": 12,
   "metadata": {},
   "outputs": [
    {
     "data": {
      "text/html": [
       "<div>\n",
       "<style scoped>\n",
       "    .dataframe tbody tr th:only-of-type {\n",
       "        vertical-align: middle;\n",
       "    }\n",
       "\n",
       "    .dataframe tbody tr th {\n",
       "        vertical-align: top;\n",
       "    }\n",
       "\n",
       "    .dataframe thead th {\n",
       "        text-align: right;\n",
       "    }\n",
       "</style>\n",
       "<table border=\"1\" class=\"dataframe\">\n",
       "  <thead>\n",
       "    <tr style=\"text-align: right;\">\n",
       "      <th>Index</th>\n",
       "      <th>0</th>\n",
       "      <th>1</th>\n",
       "      <th>2</th>\n",
       "      <th>3</th>\n",
       "      <th>4</th>\n",
       "      <th>5</th>\n",
       "      <th>6</th>\n",
       "      <th>7</th>\n",
       "      <th>8</th>\n",
       "      <th>9</th>\n",
       "      <th>...</th>\n",
       "      <th>2408</th>\n",
       "      <th>2409</th>\n",
       "      <th>2410</th>\n",
       "      <th>2411</th>\n",
       "      <th>2412</th>\n",
       "      <th>2413</th>\n",
       "      <th>2414</th>\n",
       "      <th>2415</th>\n",
       "      <th>2416</th>\n",
       "      <th>2417</th>\n",
       "    </tr>\n",
       "  </thead>\n",
       "  <tbody>\n",
       "    <tr>\n",
       "      <th>2010</th>\n",
       "      <td>8.475744</td>\n",
       "      <td>24.029778</td>\n",
       "      <td>44.831635</td>\n",
       "      <td>59.974419</td>\n",
       "      <td>14.653370</td>\n",
       "      <td>17.416639</td>\n",
       "      <td>23.568657</td>\n",
       "      <td>48.345234</td>\n",
       "      <td>58.784283</td>\n",
       "      <td>67.907379</td>\n",
       "      <td>...</td>\n",
       "      <td>13.863707</td>\n",
       "      <td>7.931598</td>\n",
       "      <td>0.169694</td>\n",
       "      <td>0.058233</td>\n",
       "      <td>13.538054</td>\n",
       "      <td>5.199882</td>\n",
       "      <td>0.122287</td>\n",
       "      <td>0.039415</td>\n",
       "      <td>2.719220</td>\n",
       "      <td>0.621228</td>\n",
       "    </tr>\n",
       "    <tr>\n",
       "      <th>2011</th>\n",
       "      <td>8.868568</td>\n",
       "      <td>28.551348</td>\n",
       "      <td>66.111168</td>\n",
       "      <td>80.821304</td>\n",
       "      <td>19.327524</td>\n",
       "      <td>35.811001</td>\n",
       "      <td>37.371216</td>\n",
       "      <td>91.215836</td>\n",
       "      <td>50.206898</td>\n",
       "      <td>68.375999</td>\n",
       "      <td>...</td>\n",
       "      <td>7.811646</td>\n",
       "      <td>3.687583</td>\n",
       "      <td>0.053225</td>\n",
       "      <td>0.060343</td>\n",
       "      <td>10.666469</td>\n",
       "      <td>4.516778</td>\n",
       "      <td>0.126717</td>\n",
       "      <td>0.040843</td>\n",
       "      <td>1.370163</td>\n",
       "      <td>0.238414</td>\n",
       "    </tr>\n",
       "    <tr>\n",
       "      <th>2012</th>\n",
       "      <td>9.202181</td>\n",
       "      <td>25.866415</td>\n",
       "      <td>56.982258</td>\n",
       "      <td>78.956543</td>\n",
       "      <td>21.928144</td>\n",
       "      <td>26.003826</td>\n",
       "      <td>38.298550</td>\n",
       "      <td>91.906342</td>\n",
       "      <td>60.707321</td>\n",
       "      <td>87.026680</td>\n",
       "      <td>...</td>\n",
       "      <td>5.893668</td>\n",
       "      <td>2.922946</td>\n",
       "      <td>0.042630</td>\n",
       "      <td>0.048331</td>\n",
       "      <td>11.240523</td>\n",
       "      <td>4.321080</td>\n",
       "      <td>0.101494</td>\n",
       "      <td>0.032713</td>\n",
       "      <td>0.818687</td>\n",
       "      <td>0.112909</td>\n",
       "    </tr>\n",
       "    <tr>\n",
       "      <th>2013</th>\n",
       "      <td>6.023070</td>\n",
       "      <td>21.634459</td>\n",
       "      <td>53.003735</td>\n",
       "      <td>63.160561</td>\n",
       "      <td>17.899586</td>\n",
       "      <td>27.348482</td>\n",
       "      <td>27.838022</td>\n",
       "      <td>41.121754</td>\n",
       "      <td>37.598999</td>\n",
       "      <td>54.602242</td>\n",
       "      <td>...</td>\n",
       "      <td>9.202684</td>\n",
       "      <td>3.323191</td>\n",
       "      <td>0.046837</td>\n",
       "      <td>0.053100</td>\n",
       "      <td>9.402670</td>\n",
       "      <td>2.658953</td>\n",
       "      <td>0.111509</td>\n",
       "      <td>0.035941</td>\n",
       "      <td>1.205721</td>\n",
       "      <td>0.209801</td>\n",
       "    </tr>\n",
       "    <tr>\n",
       "      <th>2014</th>\n",
       "      <td>10.788374</td>\n",
       "      <td>34.419411</td>\n",
       "      <td>70.917908</td>\n",
       "      <td>93.513924</td>\n",
       "      <td>19.534035</td>\n",
       "      <td>29.599268</td>\n",
       "      <td>40.779961</td>\n",
       "      <td>57.266411</td>\n",
       "      <td>59.462139</td>\n",
       "      <td>78.118126</td>\n",
       "      <td>...</td>\n",
       "      <td>8.883372</td>\n",
       "      <td>3.564533</td>\n",
       "      <td>0.051138</td>\n",
       "      <td>0.057977</td>\n",
       "      <td>11.319151</td>\n",
       "      <td>5.113997</td>\n",
       "      <td>0.121749</td>\n",
       "      <td>0.039241</td>\n",
       "      <td>1.316443</td>\n",
       "      <td>0.229067</td>\n",
       "    </tr>\n",
       "  </tbody>\n",
       "</table>\n",
       "<p>5 rows × 2418 columns</p>\n",
       "</div>"
      ],
      "text/plain": [
       "Index       0          1          2          3          4          5     \\\n",
       "2010    8.475744  24.029778  44.831635  59.974419  14.653370  17.416639   \n",
       "2011    8.868568  28.551348  66.111168  80.821304  19.327524  35.811001   \n",
       "2012    9.202181  25.866415  56.982258  78.956543  21.928144  26.003826   \n",
       "2013    6.023070  21.634459  53.003735  63.160561  17.899586  27.348482   \n",
       "2014   10.788374  34.419411  70.917908  93.513924  19.534035  29.599268   \n",
       "\n",
       "Index       6          7          8          9     ...       2408      2409  \\\n",
       "2010   23.568657  48.345234  58.784283  67.907379  ...  13.863707  7.931598   \n",
       "2011   37.371216  91.215836  50.206898  68.375999  ...   7.811646  3.687583   \n",
       "2012   38.298550  91.906342  60.707321  87.026680  ...   5.893668  2.922946   \n",
       "2013   27.838022  41.121754  37.598999  54.602242  ...   9.202684  3.323191   \n",
       "2014   40.779961  57.266411  59.462139  78.118126  ...   8.883372  3.564533   \n",
       "\n",
       "Index      2410      2411       2412      2413      2414      2415      2416  \\\n",
       "2010   0.169694  0.058233  13.538054  5.199882  0.122287  0.039415  2.719220   \n",
       "2011   0.053225  0.060343  10.666469  4.516778  0.126717  0.040843  1.370163   \n",
       "2012   0.042630  0.048331  11.240523  4.321080  0.101494  0.032713  0.818687   \n",
       "2013   0.046837  0.053100   9.402670  2.658953  0.111509  0.035941  1.205721   \n",
       "2014   0.051138  0.057977  11.319151  5.113997  0.121749  0.039241  1.316443   \n",
       "\n",
       "Index      2417  \n",
       "2010   0.621228  \n",
       "2011   0.238414  \n",
       "2012   0.112909  \n",
       "2013   0.209801  \n",
       "2014   0.229067  \n",
       "\n",
       "[5 rows x 2418 columns]"
      ]
     },
     "execution_count": 12,
     "metadata": {},
     "output_type": "execute_result"
    }
   ],
   "source": [
    "#checking for trends\n",
    "#this involves checking if the data is stationery\n",
    "biomass_T =biomass.T\n",
    "biomass_T.head()"
   ]
  },
  {
   "cell_type": "code",
   "execution_count": 13,
   "metadata": {},
   "outputs": [],
   "source": [
    "from statsmodels.tsa.stattools import adfuller\n"
   ]
  },
  {
   "cell_type": "code",
   "execution_count": 14,
   "metadata": {},
   "outputs": [
    {
     "data": {
      "text/plain": [
       "(-2.8939303316044933,\n",
       " 0.04605838372604025,\n",
       " 0,\n",
       " 7,\n",
       " {'1%': -4.9386902332361515,\n",
       "  '5%': -3.477582857142857,\n",
       "  '10%': -2.8438679591836733},\n",
       " 23.087836696094044)"
      ]
     },
     "execution_count": 14,
     "metadata": {},
     "output_type": "execute_result"
    }
   ],
   "source": [
    "results = adfuller(biomass_T.iloc[:,0])\n",
    "results"
   ]
  },
  {
   "cell_type": "code",
   "execution_count": 15,
   "metadata": {},
   "outputs": [],
   "source": [
    "def ad_test(datta_series):\n",
    "    print(\"Dickey Fuller  unit root test(stationarity test)\")\n",
    "    results=adfuller(datta_series)\n",
    "    print(f\"Dickey Fuller test statistic:{results[0]} \\\n",
    "            pvalue:{results[1]} \\\n",
    "            no.of lags:{results[2]} \\\n",
    "            no. of obsevations:{results[3]}\")\n",
    "    pvalue=results[1]\n",
    "    if pvalue <= 0.05:\n",
    "        print(\"We reject the null hypothesis and show that the timeseries is stationary\")\n",
    "    else:\n",
    "        print(\"We do not reject the null hypothesis and show that the time series is non stationary \")"
   ]
  },
  {
   "cell_type": "code",
   "execution_count": 16,
   "metadata": {},
   "outputs": [
    {
     "name": "stdout",
     "output_type": "stream",
     "text": [
      "Dickey Fuller  unit root test(stationarity test)\n",
      "Dickey Fuller test statistic:-2.8939303316044933             pvalue:0.04605838372604025             no.of lags:0             no. of obsevations:7\n",
      "We reject the null hypothesis and show that the timeseries is stationary\n"
     ]
    }
   ],
   "source": [
    "ad_test(biomass_T.iloc[:,0])"
   ]
  },
  {
   "cell_type": "code",
   "execution_count": 17,
   "metadata": {},
   "outputs": [],
   "source": [
    "#lets check for seasonality and also trends\n",
    "from statsmodels.tsa.seasonal import seasonal_decompose\n",
    "biomass_T.index=pd.to_datetime(biomass_T.index)\n",
    "resultz=seasonal_decompose(biomass_T.iloc[:,0])\n",
    "trend=resultz.trend\n",
    "seasons=resultz.seasonal\n",
    "residuals=resultz.resid"
   ]
  },
  {
   "cell_type": "code",
   "execution_count": 18,
   "metadata": {},
   "outputs": [
    {
     "data": {
      "text/plain": [
       "<module 'matplotlib.pyplot' from 'C:\\\\Users\\\\lzdi\\\\anaconda3\\\\envs\\\\learn-env\\\\lib\\\\site-packages\\\\matplotlib\\\\pyplot.py'>"
      ]
     },
     "execution_count": 18,
     "metadata": {},
     "output_type": "execute_result"
    },
    {
     "data": {
      "image/png": "[encoded data removed]",
      "text/plain": [
       "<Figure size 432x288 with 1 Axes>"
      ]
     },
     "metadata": {
      "needs_background": "light"
     },
     "output_type": "display_data"
    }
   ],
   "source": [
    "trend.plot()\n",
    "plt"
   ]
  },
  {
   "cell_type": "code",
   "execution_count": 19,
   "metadata": {},
   "outputs": [
    {
     "data": {
      "text/plain": [
       "<AxesSubplot:>"
      ]
     },
     "execution_count": 19,
     "metadata": {},
     "output_type": "execute_result"
    },
    {
     "data": {
      "image/png": "[encoded data removed]",
      "text/plain": [
       "<Figure size 432x288 with 1 Axes>"
      ]
     },
     "metadata": {
      "needs_background": "light"
     },
     "output_type": "display_data"
    }
   ],
   "source": [
    "seasons.plot()"
   ]
  },
  {
   "cell_type": "markdown",
   "metadata": {},
   "source": [
    "There is no presence of seasons in the Timeseries"
   ]
  },
  {
   "cell_type": "code",
   "execution_count": 20,
   "metadata": {},
   "outputs": [
    {
     "data": {
      "text/plain": [
       "<AxesSubplot:>"
      ]
     },
     "execution_count": 20,
     "metadata": {},
     "output_type": "execute_result"
    },
    {
     "data": {
      "image/png": "[encoded data removed]",
      "text/plain": [
       "<Figure size 432x288 with 1 Axes>"
      ]
     },
     "metadata": {
      "needs_background": "light"
     },
     "output_type": "display_data"
    }
   ],
   "source": [
    "residuals.plot()"
   ]
  },
  {
   "cell_type": "code",
   "execution_count": 21,
   "metadata": {},
   "outputs": [],
   "source": [
    "#lets check for autocorrelation in the time series data\n",
    "from statsmodels.tsa.stattools import acf,pacf\n",
    "from statsmodels.graphics.tsaplots import plot_acf,plot_pacf"
   ]
  },
  {
   "cell_type": "code",
   "execution_count": 22,
   "metadata": {},
   "outputs": [
    {
     "name": "stderr",
     "output_type": "stream",
     "text": [
      "C:\\Users\\lzdi\\anaconda3\\envs\\learn-env\\lib\\site-packages\\statsmodels\\tsa\\stattools.py:652: FutureWarning: The default number of lags is changing from 40 tomin(int(10 * np.log10(nobs)), nobs - 1) after 0.12is released. Set the number of lags to an integer to  silence this warning.\n",
      "  warnings.warn(\n",
      "C:\\Users\\lzdi\\anaconda3\\envs\\learn-env\\lib\\site-packages\\statsmodels\\tsa\\stattools.py:662: FutureWarning: fft=True will become the default after the release of the 0.12 release of statsmodels. To suppress this warning, explicitly set fft=False.\n",
      "  warnings.warn(\n"
     ]
    },
    {
     "data": {
      "text/plain": [
       "array([ 1.        , -0.31311194,  0.29332877, -0.2810428 ,  0.20254109,\n",
       "       -0.20277487, -0.12698589, -0.07195437])"
      ]
     },
     "execution_count": 22,
     "metadata": {},
     "output_type": "execute_result"
    }
   ],
   "source": [
    "acf(biomass_T.iloc[:,0])"
   ]
  },
  {
   "cell_type": "code",
   "execution_count": 23,
   "metadata": {},
   "outputs": [
    {
     "data": {
      "image/png": "[encoded data removed]",
      "text/plain": [
       "<Figure size 432x288 with 1 Axes>"
      ]
     },
     "metadata": {
      "needs_background": "light"
     },
     "output_type": "display_data"
    }
   ],
   "source": [
    "plot_acf(biomass_T.iloc[:,0])\n",
    "plt.show()"
   ]
  },
  {
   "cell_type": "code",
   "execution_count": 24,
   "metadata": {},
   "outputs": [
    {
     "data": {
      "image/png": "[encoded data removed]",
      "text/plain": [
       "<Figure size 432x288 with 1 Axes>"
      ]
     },
     "metadata": {
      "needs_background": "light"
     },
     "output_type": "display_data"
    }
   ],
   "source": [
    "plot_pacf(biomass_T.iloc[:,0],lags=3)\n",
    "plt.show()"
   ]
  },
  {
   "cell_type": "markdown",
   "metadata": {},
   "source": [
    "At the zero lag the correlation is one since it is the correlation of the value and itself <br> Afterwards there is no significant correlation there this shows no autocorrelation.<br>The order for the MA(Moving average) from looking at the autocorrelation plot is zero.<br>The order of AR(Autoregression) is zero from veiwing the partial autocorrelation plot\n"
   ]
  },
  {
   "cell_type": "code",
   "execution_count": 25,
   "metadata": {},
   "outputs": [],
   "source": [
    "#checking for autocorrelation using Ljung-Box test\n",
    "#null hypothesis:there is no autocorrelation\n",
    "#alternative hypothesis:there is autocorelation\n",
    "from statsmodels.stats.stattools import durbin_watson\n",
    "from statsmodels.stats.diagnostic import acorr_ljungbox\n",
    "def autocorrelation_test(data_series):\n",
    "    lb_test_statistics,lb_pvalue=acorr_ljungbox(data_series)\n",
    "    print('Ljung-Box test for autocorrelation')\n",
    "    \n",
    "    if any(lb_pvalue)<=0.05:\n",
    "        print('We reject the null hypothesis and conclude that there is autocorrelation')\n",
    "    else:\n",
    "        print('We do not reject the null hypothesis and show that there is no autocorrelation')"
   ]
  },
  {
   "cell_type": "code",
   "execution_count": 26,
   "metadata": {},
   "outputs": [
    {
     "name": "stdout",
     "output_type": "stream",
     "text": [
      "Ljung-Box test for autocorrelation\n",
      "We do not reject the null hypothesis and show that there is no autocorrelation\n"
     ]
    },
    {
     "name": "stderr",
     "output_type": "stream",
     "text": [
      "C:\\Users\\lzdi\\anaconda3\\envs\\learn-env\\lib\\site-packages\\statsmodels\\stats\\diagnostic.py:531: FutureWarning: The default value of lags is changing.  After 0.12, this value will become min(10, nobs//5). Directly setlags to silence this warning.\n",
      "  warnings.warn(\"The default value of lags is changing.  After 0.12, \"\n",
      "C:\\Users\\lzdi\\anaconda3\\envs\\learn-env\\lib\\site-packages\\statsmodels\\stats\\diagnostic.py:559: FutureWarning: The value returned will change to a single DataFrame after 0.12 is released.  Set return_df to True to use to return a DataFrame now.  Set return_df to False to silence this warning.\n",
      "  warnings.warn(msg, FutureWarning)\n"
     ]
    }
   ],
   "source": [
    "autocorrelation_test(biomass_T.iloc[:,0])"
   ]
  },
  {
   "cell_type": "code",
   "execution_count": 27,
   "metadata": {},
   "outputs": [],
   "source": [
    "#DO SHAPIRO WILK TEST IN EVALUATING NORMALITY OF RESIDUALS"
   ]
  },
  {
   "cell_type": "code",
   "execution_count": 28,
   "metadata": {},
   "outputs": [],
   "source": [
    "#lets start with the ARMA model\n",
    "from statsmodels.tsa.arima.model import ARIMA\n",
    "\n",
    "#lets split our data into training an test data\n",
    "splitting_index=int(len(biomass_T)*0.60)\n",
    "\n",
    "data_train = biomass_T.iloc[:splitting_index,0]\n",
    "\n",
    "data_test = biomass_T.iloc[splitting_index:,0]\n",
    "\n",
    "#lets scale our data\n",
    "from sklearn.preprocessing import MinMaxScaler\n",
    "scaler=MinMaxScaler()\n",
    "\n",
    "data_train=np.array(data_train)\n",
    "data_train=data_train.reshape(-1,1)\n",
    "\n",
    "scaled_train_data = scaler.fit_transform(data_train)\n",
    "\n",
    "data_test=np.array(data_test)\n",
    "data_test=data_test.reshape(-1,1)\n",
    "scaled_test_data = scaler.fit_transform(data_test)\n",
    "\n"
   ]
  },
  {
   "cell_type": "code",
   "execution_count": 29,
   "metadata": {},
   "outputs": [
    {
     "data": {
      "text/plain": [
       "array([0.66663451, 0.15467314])"
      ]
     },
     "execution_count": 29,
     "metadata": {},
     "output_type": "execute_result"
    }
   ],
   "source": [
    "#lest instantiate our model object\n",
    "#lets fit the data\n",
    "model=ARIMA(endog=scaled_train_data,order=(0,0,0)).fit()\n",
    "\n",
    "\n",
    "\n",
    "#lets view the model summary\n",
    "model.params"
   ]
  },
  {
   "cell_type": "code",
   "execution_count": 30,
   "metadata": {},
   "outputs": [
    {
     "name": "stdout",
     "output_type": "stream",
     "text": [
      "[0.66663451 0.66663451 0.66663451 0.66663451]\n"
     ]
    }
   ],
   "source": [
    "start=len(scaled_train_data)\n",
    "end=len(scaled_train_data)+len(scaled_test_data)-1\n",
    "\n",
    "predictions=model.predict(start=start,end=end,dynamic=False)\n",
    "print(predictions)"
   ]
  },
  {
   "cell_type": "code",
   "execution_count": 31,
   "metadata": {},
   "outputs": [],
   "source": [
    "from sklearn.metrics import mean_absolute_error\n",
    "mae = mean_absolute_error(scaled_test_data,predictions)"
   ]
  },
  {
   "cell_type": "code",
   "execution_count": 32,
   "metadata": {},
   "outputs": [
    {
     "name": "stdout",
     "output_type": "stream",
     "text": [
      "mean absolute error : 0.4195063563607758\n"
     ]
    }
   ],
   "source": [
    "print(f\"mean absolute error : {mae}\")"
   ]
  },
  {
   "cell_type": "code",
   "execution_count": 33,
   "metadata": {},
   "outputs": [
    {
     "data": {
      "text/plain": [
       "<AxesSubplot:>"
      ]
     },
     "execution_count": 33,
     "metadata": {},
     "output_type": "execute_result"
    },
    {
     "data": {
      "image/png": "[encoded data removed]",
      "text/plain": [
       "<Figure size 432x288 with 1 Axes>"
      ]
     },
     "metadata": {
      "needs_background": "light"
     },
     "output_type": "display_data"
    },
    {
     "data": {
      "image/png": "[encoded data removed]",
      "text/plain": [
       "<Figure size 432x288 with 1 Axes>"
      ]
     },
     "metadata": {
      "needs_background": "light"
     },
     "output_type": "display_data"
    }
   ],
   "source": [
    "biomass_T.iloc[splitting_index:,0].plot()\n",
    "real_pred = scaler.inverse_transform((np.array(predictions)).reshape(-1,1))\n",
    "\n",
    "pred=pd.DataFrame(list(real_pred),index=biomass_T.iloc[splitting_index:,0].index)\n",
    "pred.plot(label=\"Predictions\")"
   ]
  },
  {
   "cell_type": "markdown",
   "metadata": {},
   "source": [
    "This shows a huge disparity between the true and predicted values\n",
    "The mean absolute error is large 0.4"
   ]
  },
  {
   "cell_type": "code",
   "execution_count": 34,
   "metadata": {},
   "outputs": [
    {
     "name": "stderr",
     "output_type": "stream",
     "text": [
      "C:\\Users\\lzdi\\anaconda3\\envs\\learn-env\\lib\\site-packages\\statsmodels\\base\\model.py:566: ConvergenceWarning: Maximum Likelihood optimization failed to converge. Check mle_retvals\n",
      "  warnings.warn(\"Maximum Likelihood optimization failed to \"\n"
     ]
    }
   ],
   "source": [
    "#lets tune the model \n",
    "model2=ARIMA(endog=scaled_train_data,order=(1,0,0)).fit()"
   ]
  },
  {
   "cell_type": "code",
   "execution_count": 35,
   "metadata": {},
   "outputs": [
    {
     "data": {
      "text/plain": [
       "<AxesSubplot:>"
      ]
     },
     "execution_count": 35,
     "metadata": {},
     "output_type": "execute_result"
    },
    {
     "data": {
      "image/png": "[encoded data removed]",
      "text/plain": [
       "<Figure size 432x288 with 1 Axes>"
      ]
     },
     "metadata": {
      "needs_background": "light"
     },
     "output_type": "display_data"
    }
   ],
   "source": [
    "pred_2=model2.predict(start=start,end=end)\n",
    "pred_2_in=scaler.inverse_transform(np.array(pred_2).reshape(-1,1))\n",
    "pred2_data = pd.DataFrame(pred_2_in,index=biomass_T.iloc[splitting_index:,0].index)\n",
    "pred2_data.plot()"
   ]
  },
  {
   "cell_type": "code",
   "execution_count": 36,
   "metadata": {},
   "outputs": [],
   "source": [
    "#lets evaluate the model\n",
    "mae_2=mean_absolute_error(biomass_T.iloc[splitting_index:,0],pred_2)"
   ]
  },
  {
   "cell_type": "code",
   "execution_count": 37,
   "metadata": {},
   "outputs": [
    {
     "name": "stdout",
     "output_type": "stream",
     "text": [
      "6.719289761518718\n"
     ]
    }
   ],
   "source": [
    "print(mae_2)"
   ]
  },
  {
   "cell_type": "code",
   "execution_count": 38,
   "metadata": {},
   "outputs": [],
   "source": [
    "#Use a Akeike Information Criteriea \n",
    "#to determine the best possible values of\n",
    "#p,d,q"
   ]
  },
  {
   "cell_type": "markdown",
   "metadata": {},
   "source": [
    "### Facebook Prophet\n"
   ]
  },
  {
   "cell_type": "code",
   "execution_count": 39,
   "metadata": {},
   "outputs": [
    {
     "name": "stderr",
     "output_type": "stream",
     "text": [
      "INFO:fbprophet:Disabling weekly seasonality. Run prophet with weekly_seasonality=True to override this.\n",
      "INFO:fbprophet:Disabling daily seasonality. Run prophet with daily_seasonality=True to override this.\n",
      "INFO:fbprophet:n_changepoints greater than number of observations. Using 2.\n"
     ]
    },
    {
     "data": {
      "text/plain": [
       "<fbprophet.forecaster.Prophet at 0x23b5a8cde50>"
      ]
     },
     "execution_count": 39,
     "metadata": {},
     "output_type": "execute_result"
    }
   ],
   "source": [
    "from fbprophet import Prophet\n",
    "#instantiate a model object\n",
    "pro_model = Prophet()\n",
    "#\n",
    "data=pd.DataFrame({'y':list(scaled_train_data),'ds':biomass_T.iloc[:splitting_index,0].index})\n",
    "\n",
    "# Convert 'y' column to numeric \n",
    "data['y']=data['y'].apply(lambda x: x[0])\n",
    "\n",
    "pro_model.fit(data)"
   ]
  },
  {
   "cell_type": "code",
   "execution_count": 40,
   "metadata": {},
   "outputs": [
    {
     "data": {
      "text/plain": [
       "0    7.714969e-01\n",
       "1    8.950611e-01\n",
       "2    1.000000e+00\n",
       "3    2.520206e-14\n",
       "4   -1.357284e+00\n",
       "5   -2.951121e+00\n",
       "6   -4.740853e+00\n",
       "Name: yhat, dtype: float64"
      ]
     },
     "execution_count": 40,
     "metadata": {},
     "output_type": "execute_result"
    }
   ],
   "source": [
    "#lets generate predictions\n",
    "future_dates=pro_model.make_future_dataframe(periods=3)\n",
    "pred_data=pro_model.predict(future_dates)\n",
    "y_pred=pred_data['yhat']\n",
    "y_pred"
   ]
  },
  {
   "cell_type": "markdown",
   "metadata": {},
   "source": [
    "### Panel data modelling\n",
    "This section invloves using the following models:\n",
    "* Fixed Effect Model (FEM)\n",
    "* Random Effect Model (REM)\n",
    "* Pooled OLS model\n"
   ]
  },
  {
   "cell_type": "markdown",
   "metadata": {},
   "source": [
    "#### Fixed Effect Model"
   ]
  },
  {
   "cell_type": "code",
   "execution_count": 41,
   "metadata": {},
   "outputs": [],
   "source": [
    "#lets import the module\n",
    "#from linearmodel import PanelOLS"
   ]
  },
  {
   "cell_type": "markdown",
   "metadata": {},
   "source": [
    "### Deep learning"
   ]
  },
  {
   "cell_type": "code",
   "execution_count": 42,
   "metadata": {},
   "outputs": [],
   "source": [
    "#import relevant libraries\n",
    "#from tensorflow.keras import Sequential\n",
    "#from tensorflow.keras import  layers\n"
   ]
  },
  {
   "cell_type": "markdown",
   "metadata": {},
   "source": [
    "### XGBoost with MLforecasting\n"
   ]
  },
  {
   "cell_type": "code",
   "execution_count": 43,
   "metadata": {},
   "outputs": [],
   "source": [
    "from xgboost import XGBRegressor\n",
    "from mlforecast import MLForecast"
   ]
  },
  {
   "cell_type": "code",
   "execution_count": 44,
   "metadata": {},
   "outputs": [
    {
     "data": {
      "text/html": [
       "<div>\n",
       "<style scoped>\n",
       "    .dataframe tbody tr th:only-of-type {\n",
       "        vertical-align: middle;\n",
       "    }\n",
       "\n",
       "    .dataframe tbody tr th {\n",
       "        vertical-align: top;\n",
       "    }\n",
       "\n",
       "    .dataframe thead th {\n",
       "        text-align: right;\n",
       "    }\n",
       "</style>\n",
       "<table border=\"1\" class=\"dataframe\">\n",
       "  <thead>\n",
       "    <tr style=\"text-align: right;\">\n",
       "      <th></th>\n",
       "      <th>2010</th>\n",
       "      <th>2011</th>\n",
       "      <th>2012</th>\n",
       "      <th>2013</th>\n",
       "      <th>2014</th>\n",
       "      <th>2015</th>\n",
       "      <th>2016</th>\n",
       "      <th>2017</th>\n",
       "    </tr>\n",
       "    <tr>\n",
       "      <th>Index</th>\n",
       "      <th></th>\n",
       "      <th></th>\n",
       "      <th></th>\n",
       "      <th></th>\n",
       "      <th></th>\n",
       "      <th></th>\n",
       "      <th></th>\n",
       "      <th></th>\n",
       "    </tr>\n",
       "  </thead>\n",
       "  <tbody>\n",
       "    <tr>\n",
       "      <th>0</th>\n",
       "      <td>8.475744</td>\n",
       "      <td>8.868568</td>\n",
       "      <td>9.202181</td>\n",
       "      <td>6.023070</td>\n",
       "      <td>10.788374</td>\n",
       "      <td>6.647325</td>\n",
       "      <td>7.387925</td>\n",
       "      <td>5.180296</td>\n",
       "    </tr>\n",
       "    <tr>\n",
       "      <th>1</th>\n",
       "      <td>24.029778</td>\n",
       "      <td>28.551348</td>\n",
       "      <td>25.866415</td>\n",
       "      <td>21.634459</td>\n",
       "      <td>34.419411</td>\n",
       "      <td>27.361908</td>\n",
       "      <td>40.431847</td>\n",
       "      <td>42.126946</td>\n",
       "    </tr>\n",
       "    <tr>\n",
       "      <th>2</th>\n",
       "      <td>44.831635</td>\n",
       "      <td>66.111168</td>\n",
       "      <td>56.982258</td>\n",
       "      <td>53.003735</td>\n",
       "      <td>70.917908</td>\n",
       "      <td>42.517117</td>\n",
       "      <td>59.181629</td>\n",
       "      <td>73.203232</td>\n",
       "    </tr>\n",
       "    <tr>\n",
       "      <th>3</th>\n",
       "      <td>59.974419</td>\n",
       "      <td>80.821304</td>\n",
       "      <td>78.956543</td>\n",
       "      <td>63.160561</td>\n",
       "      <td>93.513924</td>\n",
       "      <td>70.203171</td>\n",
       "      <td>74.536720</td>\n",
       "      <td>101.067352</td>\n",
       "    </tr>\n",
       "    <tr>\n",
       "      <th>4</th>\n",
       "      <td>14.653370</td>\n",
       "      <td>19.327524</td>\n",
       "      <td>21.928144</td>\n",
       "      <td>17.899586</td>\n",
       "      <td>19.534035</td>\n",
       "      <td>19.165791</td>\n",
       "      <td>16.531315</td>\n",
       "      <td>26.086885</td>\n",
       "    </tr>\n",
       "    <tr>\n",
       "      <th>...</th>\n",
       "      <td>...</td>\n",
       "      <td>...</td>\n",
       "      <td>...</td>\n",
       "      <td>...</td>\n",
       "      <td>...</td>\n",
       "      <td>...</td>\n",
       "      <td>...</td>\n",
       "      <td>...</td>\n",
       "    </tr>\n",
       "    <tr>\n",
       "      <th>2413</th>\n",
       "      <td>5.199882</td>\n",
       "      <td>4.516778</td>\n",
       "      <td>4.321080</td>\n",
       "      <td>2.658953</td>\n",
       "      <td>5.113997</td>\n",
       "      <td>5.301668</td>\n",
       "      <td>6.419223</td>\n",
       "      <td>5.321604</td>\n",
       "    </tr>\n",
       "    <tr>\n",
       "      <th>2414</th>\n",
       "      <td>0.122287</td>\n",
       "      <td>0.126717</td>\n",
       "      <td>0.101494</td>\n",
       "      <td>0.111509</td>\n",
       "      <td>0.121749</td>\n",
       "      <td>0.122467</td>\n",
       "      <td>0.145785</td>\n",
       "      <td>0.120626</td>\n",
       "    </tr>\n",
       "    <tr>\n",
       "      <th>2415</th>\n",
       "      <td>0.039415</td>\n",
       "      <td>0.040843</td>\n",
       "      <td>0.032713</td>\n",
       "      <td>0.035941</td>\n",
       "      <td>0.039241</td>\n",
       "      <td>0.039473</td>\n",
       "      <td>0.046989</td>\n",
       "      <td>0.038879</td>\n",
       "    </tr>\n",
       "    <tr>\n",
       "      <th>2416</th>\n",
       "      <td>2.719220</td>\n",
       "      <td>1.370163</td>\n",
       "      <td>0.818687</td>\n",
       "      <td>1.205721</td>\n",
       "      <td>1.316443</td>\n",
       "      <td>1.324201</td>\n",
       "      <td>1.576338</td>\n",
       "      <td>1.304297</td>\n",
       "    </tr>\n",
       "    <tr>\n",
       "      <th>2417</th>\n",
       "      <td>0.621228</td>\n",
       "      <td>0.238414</td>\n",
       "      <td>0.112909</td>\n",
       "      <td>0.209801</td>\n",
       "      <td>0.229067</td>\n",
       "      <td>0.230417</td>\n",
       "      <td>0.274289</td>\n",
       "      <td>0.226953</td>\n",
       "    </tr>\n",
       "  </tbody>\n",
       "</table>\n",
       "<p>2418 rows × 8 columns</p>\n",
       "</div>"
      ],
      "text/plain": [
       "            2010       2011       2012       2013       2014       2015  \\\n",
       "Index                                                                     \n",
       "0       8.475744   8.868568   9.202181   6.023070  10.788374   6.647325   \n",
       "1      24.029778  28.551348  25.866415  21.634459  34.419411  27.361908   \n",
       "2      44.831635  66.111168  56.982258  53.003735  70.917908  42.517117   \n",
       "3      59.974419  80.821304  78.956543  63.160561  93.513924  70.203171   \n",
       "4      14.653370  19.327524  21.928144  17.899586  19.534035  19.165791   \n",
       "...          ...        ...        ...        ...        ...        ...   \n",
       "2413    5.199882   4.516778   4.321080   2.658953   5.113997   5.301668   \n",
       "2414    0.122287   0.126717   0.101494   0.111509   0.121749   0.122467   \n",
       "2415    0.039415   0.040843   0.032713   0.035941   0.039241   0.039473   \n",
       "2416    2.719220   1.370163   0.818687   1.205721   1.316443   1.324201   \n",
       "2417    0.621228   0.238414   0.112909   0.209801   0.229067   0.230417   \n",
       "\n",
       "            2016        2017  \n",
       "Index                         \n",
       "0       7.387925    5.180296  \n",
       "1      40.431847   42.126946  \n",
       "2      59.181629   73.203232  \n",
       "3      74.536720  101.067352  \n",
       "4      16.531315   26.086885  \n",
       "...          ...         ...  \n",
       "2413    6.419223    5.321604  \n",
       "2414    0.145785    0.120626  \n",
       "2415    0.046989    0.038879  \n",
       "2416    1.576338    1.304297  \n",
       "2417    0.274289    0.226953  \n",
       "\n",
       "[2418 rows x 8 columns]"
      ]
     },
     "execution_count": 44,
     "metadata": {},
     "output_type": "execute_result"
    }
   ],
   "source": [
    "data_2=pd.DataFrame(biomass,index=biomass.index)\n",
    "data_2"
   ]
  },
  {
   "cell_type": "code",
   "execution_count": 45,
   "metadata": {},
   "outputs": [],
   "source": [
    "#add a new dte\n",
    "data_2['location']=data_2.index"
   ]
  },
  {
   "cell_type": "code",
   "execution_count": 46,
   "metadata": {},
   "outputs": [
    {
     "data": {
      "text/html": [
       "<div>\n",
       "<style scoped>\n",
       "    .dataframe tbody tr th:only-of-type {\n",
       "        vertical-align: middle;\n",
       "    }\n",
       "\n",
       "    .dataframe tbody tr th {\n",
       "        vertical-align: top;\n",
       "    }\n",
       "\n",
       "    .dataframe thead th {\n",
       "        text-align: right;\n",
       "    }\n",
       "</style>\n",
       "<table border=\"1\" class=\"dataframe\">\n",
       "  <thead>\n",
       "    <tr style=\"text-align: right;\">\n",
       "      <th></th>\n",
       "      <th>location</th>\n",
       "      <th>Year</th>\n",
       "      <th>biomass</th>\n",
       "    </tr>\n",
       "  </thead>\n",
       "  <tbody>\n",
       "    <tr>\n",
       "      <th>0</th>\n",
       "      <td>0</td>\n",
       "      <td>2010</td>\n",
       "      <td>8.475744</td>\n",
       "    </tr>\n",
       "    <tr>\n",
       "      <th>1</th>\n",
       "      <td>1</td>\n",
       "      <td>2010</td>\n",
       "      <td>24.029778</td>\n",
       "    </tr>\n",
       "    <tr>\n",
       "      <th>2</th>\n",
       "      <td>2</td>\n",
       "      <td>2010</td>\n",
       "      <td>44.831635</td>\n",
       "    </tr>\n",
       "    <tr>\n",
       "      <th>3</th>\n",
       "      <td>3</td>\n",
       "      <td>2010</td>\n",
       "      <td>59.974419</td>\n",
       "    </tr>\n",
       "    <tr>\n",
       "      <th>4</th>\n",
       "      <td>4</td>\n",
       "      <td>2010</td>\n",
       "      <td>14.653370</td>\n",
       "    </tr>\n",
       "  </tbody>\n",
       "</table>\n",
       "</div>"
      ],
      "text/plain": [
       "   location  Year    biomass\n",
       "0         0  2010   8.475744\n",
       "1         1  2010  24.029778\n",
       "2         2  2010  44.831635\n",
       "3         3  2010  59.974419\n",
       "4         4  2010  14.653370"
      ]
     },
     "execution_count": 46,
     "metadata": {},
     "output_type": "execute_result"
    }
   ],
   "source": [
    "data_3=pd.melt(data_2,id_vars=['location'],var_name='Year',value_name='biomass')\n",
    "data_3.head()"
   ]
  },
  {
   "cell_type": "code",
   "execution_count": 47,
   "metadata": {},
   "outputs": [
    {
     "data": {
      "text/html": [
       "<div>\n",
       "<style scoped>\n",
       "    .dataframe tbody tr th:only-of-type {\n",
       "        vertical-align: middle;\n",
       "    }\n",
       "\n",
       "    .dataframe tbody tr th {\n",
       "        vertical-align: top;\n",
       "    }\n",
       "\n",
       "    .dataframe thead th {\n",
       "        text-align: right;\n",
       "    }\n",
       "</style>\n",
       "<table border=\"1\" class=\"dataframe\">\n",
       "  <thead>\n",
       "    <tr style=\"text-align: right;\">\n",
       "      <th></th>\n",
       "      <th>location</th>\n",
       "      <th>Year</th>\n",
       "      <th>biomass</th>\n",
       "    </tr>\n",
       "  </thead>\n",
       "  <tbody>\n",
       "    <tr>\n",
       "      <th>19339</th>\n",
       "      <td>2413</td>\n",
       "      <td>2017</td>\n",
       "      <td>5.321604</td>\n",
       "    </tr>\n",
       "    <tr>\n",
       "      <th>19340</th>\n",
       "      <td>2414</td>\n",
       "      <td>2017</td>\n",
       "      <td>0.120626</td>\n",
       "    </tr>\n",
       "    <tr>\n",
       "      <th>19341</th>\n",
       "      <td>2415</td>\n",
       "      <td>2017</td>\n",
       "      <td>0.038879</td>\n",
       "    </tr>\n",
       "    <tr>\n",
       "      <th>19342</th>\n",
       "      <td>2416</td>\n",
       "      <td>2017</td>\n",
       "      <td>1.304297</td>\n",
       "    </tr>\n",
       "    <tr>\n",
       "      <th>19343</th>\n",
       "      <td>2417</td>\n",
       "      <td>2017</td>\n",
       "      <td>0.226953</td>\n",
       "    </tr>\n",
       "  </tbody>\n",
       "</table>\n",
       "</div>"
      ],
      "text/plain": [
       "       location  Year   biomass\n",
       "19339      2413  2017  5.321604\n",
       "19340      2414  2017  0.120626\n",
       "19341      2415  2017  0.038879\n",
       "19342      2416  2017  1.304297\n",
       "19343      2417  2017  0.226953"
      ]
     },
     "execution_count": 47,
     "metadata": {},
     "output_type": "execute_result"
    }
   ],
   "source": [
    "data_3.tail()"
   ]
  },
  {
   "cell_type": "code",
   "execution_count": 48,
   "metadata": {},
   "outputs": [
    {
     "name": "stdout",
     "output_type": "stream",
     "text": [
      "<class 'pandas.core.frame.DataFrame'>\n",
      "RangeIndex: 19344 entries, 0 to 19343\n",
      "Data columns (total 3 columns):\n",
      " #   Column    Non-Null Count  Dtype  \n",
      "---  ------    --------------  -----  \n",
      " 0   location  19344 non-null  int64  \n",
      " 1   Year      19344 non-null  object \n",
      " 2   biomass   19344 non-null  float64\n",
      "dtypes: float64(1), int64(1), object(1)\n",
      "memory usage: 453.5+ KB\n"
     ]
    }
   ],
   "source": [
    "data_3.info()"
   ]
  },
  {
   "cell_type": "code",
   "execution_count": 49,
   "metadata": {},
   "outputs": [],
   "source": [
    "data_3['location']=data_3['location'].astype('category')\n",
    "data_3['Year']=pd.to_datetime(data_3['Year'])"
   ]
  },
  {
   "cell_type": "code",
   "execution_count": 50,
   "metadata": {},
   "outputs": [
    {
     "name": "stdout",
     "output_type": "stream",
     "text": [
      "<class 'pandas.core.frame.DataFrame'>\n",
      "RangeIndex: 19344 entries, 0 to 19343\n",
      "Data columns (total 3 columns):\n",
      " #   Column    Non-Null Count  Dtype         \n",
      "---  ------    --------------  -----         \n",
      " 0   location  19344 non-null  category      \n",
      " 1   Year      19344 non-null  datetime64[ns]\n",
      " 2   biomass   19344 non-null  float64       \n",
      "dtypes: category(1), datetime64[ns](1), float64(1)\n",
      "memory usage: 439.0 KB\n"
     ]
    }
   ],
   "source": [
    "data_3.info()"
   ]
  },
  {
   "cell_type": "code",
   "execution_count": null,
   "metadata": {},
   "outputs": [],
   "source": []
  },
  {
   "cell_type": "code",
   "execution_count": null,
   "metadata": {},
   "outputs": [],
   "source": []
  },
  {
   "cell_type": "code",
   "execution_count": 51,
   "metadata": {},
   "outputs": [
    {
     "data": {
      "text/html": [
       "<div>\n",
       "<style scoped>\n",
       "    .dataframe tbody tr th:only-of-type {\n",
       "        vertical-align: middle;\n",
       "    }\n",
       "\n",
       "    .dataframe tbody tr th {\n",
       "        vertical-align: top;\n",
       "    }\n",
       "\n",
       "    .dataframe thead th {\n",
       "        text-align: right;\n",
       "    }\n",
       "</style>\n",
       "<table border=\"1\" class=\"dataframe\">\n",
       "  <thead>\n",
       "    <tr style=\"text-align: right;\">\n",
       "      <th></th>\n",
       "      <th>location</th>\n",
       "      <th>Year</th>\n",
       "      <th>biomass</th>\n",
       "    </tr>\n",
       "  </thead>\n",
       "  <tbody>\n",
       "    <tr>\n",
       "      <th>0</th>\n",
       "      <td>0</td>\n",
       "      <td>2010-01-01</td>\n",
       "      <td>8.475744</td>\n",
       "    </tr>\n",
       "    <tr>\n",
       "      <th>1</th>\n",
       "      <td>1</td>\n",
       "      <td>2010-01-01</td>\n",
       "      <td>24.029778</td>\n",
       "    </tr>\n",
       "    <tr>\n",
       "      <th>2</th>\n",
       "      <td>2</td>\n",
       "      <td>2010-01-01</td>\n",
       "      <td>44.831635</td>\n",
       "    </tr>\n",
       "    <tr>\n",
       "      <th>3</th>\n",
       "      <td>3</td>\n",
       "      <td>2010-01-01</td>\n",
       "      <td>59.974419</td>\n",
       "    </tr>\n",
       "    <tr>\n",
       "      <th>4</th>\n",
       "      <td>4</td>\n",
       "      <td>2010-01-01</td>\n",
       "      <td>14.653370</td>\n",
       "    </tr>\n",
       "    <tr>\n",
       "      <th>...</th>\n",
       "      <td>...</td>\n",
       "      <td>...</td>\n",
       "      <td>...</td>\n",
       "    </tr>\n",
       "    <tr>\n",
       "      <th>14503</th>\n",
       "      <td>2413</td>\n",
       "      <td>2015-01-01</td>\n",
       "      <td>5.301668</td>\n",
       "    </tr>\n",
       "    <tr>\n",
       "      <th>14504</th>\n",
       "      <td>2414</td>\n",
       "      <td>2015-01-01</td>\n",
       "      <td>0.122467</td>\n",
       "    </tr>\n",
       "    <tr>\n",
       "      <th>14505</th>\n",
       "      <td>2415</td>\n",
       "      <td>2015-01-01</td>\n",
       "      <td>0.039473</td>\n",
       "    </tr>\n",
       "    <tr>\n",
       "      <th>14506</th>\n",
       "      <td>2416</td>\n",
       "      <td>2015-01-01</td>\n",
       "      <td>1.324201</td>\n",
       "    </tr>\n",
       "    <tr>\n",
       "      <th>14507</th>\n",
       "      <td>2417</td>\n",
       "      <td>2015-01-01</td>\n",
       "      <td>0.230417</td>\n",
       "    </tr>\n",
       "  </tbody>\n",
       "</table>\n",
       "<p>14508 rows × 3 columns</p>\n",
       "</div>"
      ],
      "text/plain": [
       "      location       Year    biomass\n",
       "0            0 2010-01-01   8.475744\n",
       "1            1 2010-01-01  24.029778\n",
       "2            2 2010-01-01  44.831635\n",
       "3            3 2010-01-01  59.974419\n",
       "4            4 2010-01-01  14.653370\n",
       "...        ...        ...        ...\n",
       "14503     2413 2015-01-01   5.301668\n",
       "14504     2414 2015-01-01   0.122467\n",
       "14505     2415 2015-01-01   0.039473\n",
       "14506     2416 2015-01-01   1.324201\n",
       "14507     2417 2015-01-01   0.230417\n",
       "\n",
       "[14508 rows x 3 columns]"
      ]
     },
     "execution_count": 51,
     "metadata": {},
     "output_type": "execute_result"
    }
   ],
   "source": [
    "#lest split the data\n",
    "#into train and test set\n",
    "train_data=data_3[data_3['Year'].dt.year <=2015]\n",
    "test_data=data_3[data_3['Year'].dt.year > 2015]\n",
    "\n",
    "train_data"
   ]
  },
  {
   "cell_type": "code",
   "execution_count": 52,
   "metadata": {},
   "outputs": [
    {
     "data": {
      "text/plain": [
       "<AxesSubplot:ylabel='Density'>"
      ]
     },
     "execution_count": 52,
     "metadata": {},
     "output_type": "execute_result"
    },
    {
     "data": {
      "image/png": "[encoded data removed]",
      "text/plain": [
       "<Figure size 432x288 with 1 Axes>"
      ]
     },
     "metadata": {
      "needs_background": "light"
     },
     "output_type": "display_data"
    }
   ],
   "source": [
    "#test for distribution of data\n",
    "train_data['biomass'].plot(kind='kde')\n"
   ]
  },
  {
   "cell_type": "code",
   "execution_count": 53,
   "metadata": {},
   "outputs": [
    {
     "name": "stderr",
     "output_type": "stream",
     "text": [
      "<ipython-input-53-7f583ea8a5d3>:1: SettingWithCopyWarning: \n",
      "A value is trying to be set on a copy of a slice from a DataFrame.\n",
      "Try using .loc[row_indexer,col_indexer] = value instead\n",
      "\n",
      "See the caveats in the documentation: https://pandas.pydata.org/pandas-docs/stable/user_guide/indexing.html#returning-a-view-versus-a-copy\n",
      "  train_data['unique_id']=train_data['location']\n",
      "<ipython-input-53-7f583ea8a5d3>:2: SettingWithCopyWarning: \n",
      "A value is trying to be set on a copy of a slice from a DataFrame.\n",
      "Try using .loc[row_indexer,col_indexer] = value instead\n",
      "\n",
      "See the caveats in the documentation: https://pandas.pydata.org/pandas-docs/stable/user_guide/indexing.html#returning-a-view-versus-a-copy\n",
      "  train_data['ds']=train_data['Year']\n",
      "<ipython-input-53-7f583ea8a5d3>:3: SettingWithCopyWarning: \n",
      "A value is trying to be set on a copy of a slice from a DataFrame.\n",
      "Try using .loc[row_indexer,col_indexer] = value instead\n",
      "\n",
      "See the caveats in the documentation: https://pandas.pydata.org/pandas-docs/stable/user_guide/indexing.html#returning-a-view-versus-a-copy\n",
      "  train_data['y']=train_data['biomass']\n"
     ]
    }
   ],
   "source": [
    "train_data['unique_id']=train_data['location']\n",
    "train_data['ds']=train_data['Year']\n",
    "train_data['y']=train_data['biomass']"
   ]
  },
  {
   "cell_type": "code",
   "execution_count": 54,
   "metadata": {},
   "outputs": [
    {
     "data": {
      "text/html": [
       "<div>\n",
       "<style scoped>\n",
       "    .dataframe tbody tr th:only-of-type {\n",
       "        vertical-align: middle;\n",
       "    }\n",
       "\n",
       "    .dataframe tbody tr th {\n",
       "        vertical-align: top;\n",
       "    }\n",
       "\n",
       "    .dataframe thead th {\n",
       "        text-align: right;\n",
       "    }\n",
       "</style>\n",
       "<table border=\"1\" class=\"dataframe\">\n",
       "  <thead>\n",
       "    <tr style=\"text-align: right;\">\n",
       "      <th></th>\n",
       "      <th>unique_id</th>\n",
       "      <th>ds</th>\n",
       "      <th>y</th>\n",
       "    </tr>\n",
       "  </thead>\n",
       "  <tbody>\n",
       "    <tr>\n",
       "      <th>0</th>\n",
       "      <td>0</td>\n",
       "      <td>2010-01-01</td>\n",
       "      <td>8.475744</td>\n",
       "    </tr>\n",
       "    <tr>\n",
       "      <th>1</th>\n",
       "      <td>1</td>\n",
       "      <td>2010-01-01</td>\n",
       "      <td>24.029778</td>\n",
       "    </tr>\n",
       "    <tr>\n",
       "      <th>2</th>\n",
       "      <td>2</td>\n",
       "      <td>2010-01-01</td>\n",
       "      <td>44.831635</td>\n",
       "    </tr>\n",
       "    <tr>\n",
       "      <th>3</th>\n",
       "      <td>3</td>\n",
       "      <td>2010-01-01</td>\n",
       "      <td>59.974419</td>\n",
       "    </tr>\n",
       "    <tr>\n",
       "      <th>4</th>\n",
       "      <td>4</td>\n",
       "      <td>2010-01-01</td>\n",
       "      <td>14.653370</td>\n",
       "    </tr>\n",
       "  </tbody>\n",
       "</table>\n",
       "</div>"
      ],
      "text/plain": [
       "  unique_id         ds          y\n",
       "0         0 2010-01-01   8.475744\n",
       "1         1 2010-01-01  24.029778\n",
       "2         2 2010-01-01  44.831635\n",
       "3         3 2010-01-01  59.974419\n",
       "4         4 2010-01-01  14.653370"
      ]
     },
     "execution_count": 54,
     "metadata": {},
     "output_type": "execute_result"
    }
   ],
   "source": [
    "data_4=train_data.drop(labels=['location','Year','biomass'],axis=1)\n",
    "data_4.head()"
   ]
  },
  {
   "cell_type": "markdown",
   "metadata": {},
   "source": [
    "positively skewed to the right"
   ]
  },
  {
   "cell_type": "code",
   "execution_count": 55,
   "metadata": {},
   "outputs": [
    {
     "name": "stdout",
     "output_type": "stream",
     "text": [
      "[07:42:14] WARNING: C:\\Windows\\Temp\\abs_557yfx631l\\croots\\recipe\\xgboost-split_1659548953302\\work\\src\\learner.cc:576: \n",
      "Parameters: { \"num_of_estimators\" } might not be used.\n",
      "\n",
      "  This could be a false alarm, with some parameters getting used by language bindings but\n",
      "  then being mistakenly passed down to XGBoost core, or some parameter actually being used\n",
      "  but getting flagged wrongly here. Please open an issue if you find any such cases.\n",
      "\n",
      "\n"
     ]
    },
    {
     "data": {
      "text/plain": [
       "MLForecast(models=[XGBRegressor], freq=<YearEnd: month=12>, lag_features=['lag1', 'lag2', 'lag3', 'lag4', 'rolling_mean_lag1_window_size3', 'rolling_min_lag1_window_size3', 'rolling_max_lag1_window_size3'], date_features=[], num_threads=4)"
      ]
     },
     "execution_count": 55,
     "metadata": {},
     "output_type": "execute_result"
    }
   ],
   "source": [
    "#\n",
    "from window_ops.rolling import rolling_mean,rolling_min,rolling_max\n",
    "#fitting the model\n",
    "models=[XGBRegressor(random_state=0,num_of_estimators=100)]\n",
    "#instantiate the model\n",
    "ml_model=MLForecast(models=models,freq='Y',lags=[1,2,3,4],\n",
    "                    lag_transforms={1:[(rolling_mean,3),(rolling_min,3),(rolling_max,3)]}\n",
    "    ,num_threads=4)\n",
    "#lets fit the model\n",
    "ml_model.fit(data_4,id_col='unique_id',time_col='ds',target_col='y',static_features=[])"
   ]
  },
  {
   "cell_type": "code",
   "execution_count": 58,
   "metadata": {},
   "outputs": [
    {
     "data": {
      "text/html": [
       "<div>\n",
       "<style scoped>\n",
       "    .dataframe tbody tr th:only-of-type {\n",
       "        vertical-align: middle;\n",
       "    }\n",
       "\n",
       "    .dataframe tbody tr th {\n",
       "        vertical-align: top;\n",
       "    }\n",
       "\n",
       "    .dataframe thead th {\n",
       "        text-align: right;\n",
       "    }\n",
       "</style>\n",
       "<table border=\"1\" class=\"dataframe\">\n",
       "  <thead>\n",
       "    <tr style=\"text-align: right;\">\n",
       "      <th></th>\n",
       "      <th>unique_id</th>\n",
       "      <th>ds</th>\n",
       "      <th>XGBRegressor</th>\n",
       "    </tr>\n",
       "  </thead>\n",
       "  <tbody>\n",
       "    <tr>\n",
       "      <th>0</th>\n",
       "      <td>0</td>\n",
       "      <td>2015-12-31</td>\n",
       "      <td>8.941206</td>\n",
       "    </tr>\n",
       "    <tr>\n",
       "      <th>1</th>\n",
       "      <td>0</td>\n",
       "      <td>2016-12-31</td>\n",
       "      <td>9.189665</td>\n",
       "    </tr>\n",
       "    <tr>\n",
       "      <th>2</th>\n",
       "      <td>1</td>\n",
       "      <td>2015-12-31</td>\n",
       "      <td>28.132339</td>\n",
       "    </tr>\n",
       "    <tr>\n",
       "      <th>3</th>\n",
       "      <td>1</td>\n",
       "      <td>2016-12-31</td>\n",
       "      <td>30.510427</td>\n",
       "    </tr>\n",
       "    <tr>\n",
       "      <th>4</th>\n",
       "      <td>2</td>\n",
       "      <td>2015-12-31</td>\n",
       "      <td>59.621971</td>\n",
       "    </tr>\n",
       "    <tr>\n",
       "      <th>...</th>\n",
       "      <td>...</td>\n",
       "      <td>...</td>\n",
       "      <td>...</td>\n",
       "    </tr>\n",
       "    <tr>\n",
       "      <th>4831</th>\n",
       "      <td>2415</td>\n",
       "      <td>2016-12-31</td>\n",
       "      <td>0.620507</td>\n",
       "    </tr>\n",
       "    <tr>\n",
       "      <th>4832</th>\n",
       "      <td>2416</td>\n",
       "      <td>2015-12-31</td>\n",
       "      <td>1.275800</td>\n",
       "    </tr>\n",
       "    <tr>\n",
       "      <th>4833</th>\n",
       "      <td>2416</td>\n",
       "      <td>2016-12-31</td>\n",
       "      <td>1.468237</td>\n",
       "    </tr>\n",
       "    <tr>\n",
       "      <th>4834</th>\n",
       "      <td>2417</td>\n",
       "      <td>2015-12-31</td>\n",
       "      <td>0.620507</td>\n",
       "    </tr>\n",
       "    <tr>\n",
       "      <th>4835</th>\n",
       "      <td>2417</td>\n",
       "      <td>2016-12-31</td>\n",
       "      <td>0.620507</td>\n",
       "    </tr>\n",
       "  </tbody>\n",
       "</table>\n",
       "<p>4836 rows × 3 columns</p>\n",
       "</div>"
      ],
      "text/plain": [
       "     unique_id         ds  XGBRegressor\n",
       "0            0 2015-12-31      8.941206\n",
       "1            0 2016-12-31      9.189665\n",
       "2            1 2015-12-31     28.132339\n",
       "3            1 2016-12-31     30.510427\n",
       "4            2 2015-12-31     59.621971\n",
       "...        ...        ...           ...\n",
       "4831      2415 2016-12-31      0.620507\n",
       "4832      2416 2015-12-31      1.275800\n",
       "4833      2416 2016-12-31      1.468237\n",
       "4834      2417 2015-12-31      0.620507\n",
       "4835      2417 2016-12-31      0.620507\n",
       "\n",
       "[4836 rows x 3 columns]"
      ]
     },
     "execution_count": 58,
     "metadata": {},
     "output_type": "execute_result"
    }
   ],
   "source": [
    "#lets evaluate the model\n",
    "steps=test_data['Year'].nunique()\n",
    "pred=ml_model.predict(horizon=steps)\n",
    "pred"
   ]
  },
  {
   "cell_type": "code",
   "execution_count": 68,
   "metadata": {},
   "outputs": [
    {
     "name": "stderr",
     "output_type": "stream",
     "text": [
      "C:\\Users\\lzdi\\anaconda3\\envs\\learn-env\\lib\\site-packages\\pandas\\core\\frame.py:4296: SettingWithCopyWarning: \n",
      "A value is trying to be set on a copy of a slice from a DataFrame\n",
      "\n",
      "See the caveats in the documentation: https://pandas.pydata.org/pandas-docs/stable/user_guide/indexing.html#returning-a-view-versus-a-copy\n",
      "  return super().rename(\n"
     ]
    }
   ],
   "source": [
    "new_col = {'location':'unique_id','Year':'ds'}\n",
    "test_data.rename(columns=new_col,inplace=True)"
   ]
  },
  {
   "cell_type": "code",
   "execution_count": 75,
   "metadata": {},
   "outputs": [
    {
     "data": {
      "text/html": [
       "<div>\n",
       "<style scoped>\n",
       "    .dataframe tbody tr th:only-of-type {\n",
       "        vertical-align: middle;\n",
       "    }\n",
       "\n",
       "    .dataframe tbody tr th {\n",
       "        vertical-align: top;\n",
       "    }\n",
       "\n",
       "    .dataframe thead th {\n",
       "        text-align: right;\n",
       "    }\n",
       "</style>\n",
       "<table border=\"1\" class=\"dataframe\">\n",
       "  <thead>\n",
       "    <tr style=\"text-align: right;\">\n",
       "      <th></th>\n",
       "      <th>unique_id</th>\n",
       "      <th>ds</th>\n",
       "      <th>biomass</th>\n",
       "      <th>XGBRegressor</th>\n",
       "    </tr>\n",
       "  </thead>\n",
       "  <tbody>\n",
       "  </tbody>\n",
       "</table>\n",
       "</div>"
      ],
      "text/plain": [
       "Empty DataFrame\n",
       "Columns: [unique_id, ds, biomass, XGBRegressor]\n",
       "Index: []"
      ]
     },
     "execution_count": 75,
     "metadata": {},
     "output_type": "execute_result"
    }
   ],
   "source": [
    "eval_data=pd.merge(test_data,pred,on=['unique_id','ds'],how='inner')\n",
    "eval_data.head()"
   ]
  },
  {
   "cell_type": "code",
   "execution_count": 71,
   "metadata": {},
   "outputs": [
    {
     "data": {
      "text/plain": [
       "Index(['unique_id', 'ds', 'biomass'], dtype='object')"
      ]
     },
     "execution_count": 71,
     "metadata": {},
     "output_type": "execute_result"
    }
   ],
   "source": [
    "test_data.columns"
   ]
  },
  {
   "cell_type": "code",
   "execution_count": 77,
   "metadata": {},
   "outputs": [
    {
     "name": "stdout",
     "output_type": "stream",
     "text": [
      "<class 'pandas.core.frame.DataFrame'>\n",
      "RangeIndex: 4836 entries, 0 to 4835\n",
      "Data columns (total 3 columns):\n",
      " #   Column        Non-Null Count  Dtype         \n",
      "---  ------        --------------  -----         \n",
      " 0   unique_id     4836 non-null   category      \n",
      " 1   ds            4836 non-null   datetime64[ns]\n",
      " 2   XGBRegressor  4836 non-null   float32       \n",
      "dtypes: category(1), datetime64[ns](1), float32(1)\n",
      "memory usage: 165.1 KB\n"
     ]
    }
   ],
   "source": [
    "pred.info()"
   ]
  },
  {
   "cell_type": "code",
   "execution_count": 78,
   "metadata": {},
   "outputs": [
    {
     "name": "stdout",
     "output_type": "stream",
     "text": [
      "<class 'pandas.core.frame.DataFrame'>\n",
      "Int64Index: 4836 entries, 14508 to 19343\n",
      "Data columns (total 3 columns):\n",
      " #   Column     Non-Null Count  Dtype         \n",
      "---  ------     --------------  -----         \n",
      " 0   unique_id  4836 non-null   category      \n",
      " 1   ds         4836 non-null   datetime64[ns]\n",
      " 2   biomass    4836 non-null   float64       \n",
      "dtypes: category(1), datetime64[ns](1), float64(1)\n",
      "memory usage: 221.7 KB\n"
     ]
    }
   ],
   "source": [
    "test_data.info()"
   ]
  },
  {
   "cell_type": "code",
   "execution_count": 79,
   "metadata": {},
   "outputs": [
    {
     "data": {
      "text/html": [
       "<div>\n",
       "<style scoped>\n",
       "    .dataframe tbody tr th:only-of-type {\n",
       "        vertical-align: middle;\n",
       "    }\n",
       "\n",
       "    .dataframe tbody tr th {\n",
       "        vertical-align: top;\n",
       "    }\n",
       "\n",
       "    .dataframe thead th {\n",
       "        text-align: right;\n",
       "    }\n",
       "</style>\n",
       "<table border=\"1\" class=\"dataframe\">\n",
       "  <thead>\n",
       "    <tr style=\"text-align: right;\">\n",
       "      <th></th>\n",
       "      <th>unique_id</th>\n",
       "      <th>ds</th>\n",
       "      <th>XGBRegressor</th>\n",
       "      <th>biomass</th>\n",
       "    </tr>\n",
       "  </thead>\n",
       "  <tbody>\n",
       "  </tbody>\n",
       "</table>\n",
       "</div>"
      ],
      "text/plain": [
       "Empty DataFrame\n",
       "Columns: [unique_id, ds, XGBRegressor, biomass]\n",
       "Index: []"
      ]
     },
     "execution_count": 79,
     "metadata": {},
     "output_type": "execute_result"
    }
   ],
   "source": [
    "pred.merge(test_data[['unique_id', 'ds', 'biomass']],on=['unique_id','ds'],how='inner')"
   ]
  },
  {
   "cell_type": "code",
   "execution_count": 80,
   "metadata": {},
   "outputs": [
    {
     "data": {
      "text/html": [
       "<div>\n",
       "<style scoped>\n",
       "    .dataframe tbody tr th:only-of-type {\n",
       "        vertical-align: middle;\n",
       "    }\n",
       "\n",
       "    .dataframe tbody tr th {\n",
       "        vertical-align: top;\n",
       "    }\n",
       "\n",
       "    .dataframe thead th {\n",
       "        text-align: right;\n",
       "    }\n",
       "</style>\n",
       "<table border=\"1\" class=\"dataframe\">\n",
       "  <thead>\n",
       "    <tr style=\"text-align: right;\">\n",
       "      <th></th>\n",
       "      <th>unique_id</th>\n",
       "      <th>ds</th>\n",
       "      <th>biomass</th>\n",
       "    </tr>\n",
       "  </thead>\n",
       "  <tbody>\n",
       "    <tr>\n",
       "      <th>14508</th>\n",
       "      <td>0</td>\n",
       "      <td>2016-01-01</td>\n",
       "      <td>7.387925</td>\n",
       "    </tr>\n",
       "    <tr>\n",
       "      <th>14509</th>\n",
       "      <td>1</td>\n",
       "      <td>2016-01-01</td>\n",
       "      <td>40.431847</td>\n",
       "    </tr>\n",
       "    <tr>\n",
       "      <th>14510</th>\n",
       "      <td>2</td>\n",
       "      <td>2016-01-01</td>\n",
       "      <td>59.181629</td>\n",
       "    </tr>\n",
       "    <tr>\n",
       "      <th>14511</th>\n",
       "      <td>3</td>\n",
       "      <td>2016-01-01</td>\n",
       "      <td>74.536720</td>\n",
       "    </tr>\n",
       "    <tr>\n",
       "      <th>14512</th>\n",
       "      <td>4</td>\n",
       "      <td>2016-01-01</td>\n",
       "      <td>16.531315</td>\n",
       "    </tr>\n",
       "  </tbody>\n",
       "</table>\n",
       "</div>"
      ],
      "text/plain": [
       "      unique_id         ds    biomass\n",
       "14508         0 2016-01-01   7.387925\n",
       "14509         1 2016-01-01  40.431847\n",
       "14510         2 2016-01-01  59.181629\n",
       "14511         3 2016-01-01  74.536720\n",
       "14512         4 2016-01-01  16.531315"
      ]
     },
     "execution_count": 80,
     "metadata": {},
     "output_type": "execute_result"
    }
   ],
   "source": [
    "test_data.head()"
   ]
  },
  {
   "cell_type": "code",
   "execution_count": 81,
   "metadata": {},
   "outputs": [
    {
     "data": {
      "text/html": [
       "<div>\n",
       "<style scoped>\n",
       "    .dataframe tbody tr th:only-of-type {\n",
       "        vertical-align: middle;\n",
       "    }\n",
       "\n",
       "    .dataframe tbody tr th {\n",
       "        vertical-align: top;\n",
       "    }\n",
       "\n",
       "    .dataframe thead th {\n",
       "        text-align: right;\n",
       "    }\n",
       "</style>\n",
       "<table border=\"1\" class=\"dataframe\">\n",
       "  <thead>\n",
       "    <tr style=\"text-align: right;\">\n",
       "      <th></th>\n",
       "      <th>unique_id</th>\n",
       "      <th>ds</th>\n",
       "      <th>XGBRegressor</th>\n",
       "      <th>year</th>\n",
       "      <th>adjusted_date</th>\n",
       "    </tr>\n",
       "  </thead>\n",
       "  <tbody>\n",
       "    <tr>\n",
       "      <th>0</th>\n",
       "      <td>0</td>\n",
       "      <td>2015-12-31</td>\n",
       "      <td>8.941206</td>\n",
       "      <td>2015</td>\n",
       "      <td>2015-01-01</td>\n",
       "    </tr>\n",
       "    <tr>\n",
       "      <th>1</th>\n",
       "      <td>0</td>\n",
       "      <td>2016-12-31</td>\n",
       "      <td>9.189665</td>\n",
       "      <td>2016</td>\n",
       "      <td>2016-01-01</td>\n",
       "    </tr>\n",
       "    <tr>\n",
       "      <th>2</th>\n",
       "      <td>1</td>\n",
       "      <td>2015-12-31</td>\n",
       "      <td>28.132339</td>\n",
       "      <td>2015</td>\n",
       "      <td>2015-01-01</td>\n",
       "    </tr>\n",
       "    <tr>\n",
       "      <th>3</th>\n",
       "      <td>1</td>\n",
       "      <td>2016-12-31</td>\n",
       "      <td>30.510427</td>\n",
       "      <td>2016</td>\n",
       "      <td>2016-01-01</td>\n",
       "    </tr>\n",
       "    <tr>\n",
       "      <th>4</th>\n",
       "      <td>2</td>\n",
       "      <td>2015-12-31</td>\n",
       "      <td>59.621971</td>\n",
       "      <td>2015</td>\n",
       "      <td>2015-01-01</td>\n",
       "    </tr>\n",
       "  </tbody>\n",
       "</table>\n",
       "</div>"
      ],
      "text/plain": [
       "  unique_id         ds  XGBRegressor  year adjusted_date\n",
       "0         0 2015-12-31      8.941206  2015    2015-01-01\n",
       "1         0 2016-12-31      9.189665  2016    2016-01-01\n",
       "2         1 2015-12-31     28.132339  2015    2015-01-01\n",
       "3         1 2016-12-31     30.510427  2016    2016-01-01\n",
       "4         2 2015-12-31     59.621971  2015    2015-01-01"
      ]
     },
     "execution_count": 81,
     "metadata": {},
     "output_type": "execute_result"
    }
   ],
   "source": [
    "pred['year']=pred['ds'].dt.year\n",
    "pred['adjusted_date']=pd.to_datetime(pred['year'].astype('str')+ '-01-01')\n",
    "pred.head()"
   ]
  },
  {
   "cell_type": "code",
   "execution_count": 82,
   "metadata": {},
   "outputs": [
    {
     "data": {
      "text/html": [
       "<div>\n",
       "<style scoped>\n",
       "    .dataframe tbody tr th:only-of-type {\n",
       "        vertical-align: middle;\n",
       "    }\n",
       "\n",
       "    .dataframe tbody tr th {\n",
       "        vertical-align: top;\n",
       "    }\n",
       "\n",
       "    .dataframe thead th {\n",
       "        text-align: right;\n",
       "    }\n",
       "</style>\n",
       "<table border=\"1\" class=\"dataframe\">\n",
       "  <thead>\n",
       "    <tr style=\"text-align: right;\">\n",
       "      <th></th>\n",
       "      <th>unique_id</th>\n",
       "      <th>XGBRegressor</th>\n",
       "      <th>ds</th>\n",
       "    </tr>\n",
       "  </thead>\n",
       "  <tbody>\n",
       "    <tr>\n",
       "      <th>0</th>\n",
       "      <td>0</td>\n",
       "      <td>8.941206</td>\n",
       "      <td>2015-01-01</td>\n",
       "    </tr>\n",
       "    <tr>\n",
       "      <th>1</th>\n",
       "      <td>0</td>\n",
       "      <td>9.189665</td>\n",
       "      <td>2016-01-01</td>\n",
       "    </tr>\n",
       "    <tr>\n",
       "      <th>2</th>\n",
       "      <td>1</td>\n",
       "      <td>28.132339</td>\n",
       "      <td>2015-01-01</td>\n",
       "    </tr>\n",
       "    <tr>\n",
       "      <th>3</th>\n",
       "      <td>1</td>\n",
       "      <td>30.510427</td>\n",
       "      <td>2016-01-01</td>\n",
       "    </tr>\n",
       "    <tr>\n",
       "      <th>4</th>\n",
       "      <td>2</td>\n",
       "      <td>59.621971</td>\n",
       "      <td>2015-01-01</td>\n",
       "    </tr>\n",
       "  </tbody>\n",
       "</table>\n",
       "</div>"
      ],
      "text/plain": [
       "  unique_id  XGBRegressor         ds\n",
       "0         0      8.941206 2015-01-01\n",
       "1         0      9.189665 2016-01-01\n",
       "2         1     28.132339 2015-01-01\n",
       "3         1     30.510427 2016-01-01\n",
       "4         2     59.621971 2015-01-01"
      ]
     },
     "execution_count": 82,
     "metadata": {},
     "output_type": "execute_result"
    }
   ],
   "source": [
    "pred=pred.drop(['ds','year'],axis=1)\n",
    "pred=pred.rename(columns={'adjusted_date':'ds'})\n",
    "pred.head()"
   ]
  },
  {
   "cell_type": "code",
   "execution_count": 84,
   "metadata": {},
   "outputs": [
    {
     "data": {
      "text/html": [
       "<div>\n",
       "<style scoped>\n",
       "    .dataframe tbody tr th:only-of-type {\n",
       "        vertical-align: middle;\n",
       "    }\n",
       "\n",
       "    .dataframe tbody tr th {\n",
       "        vertical-align: top;\n",
       "    }\n",
       "\n",
       "    .dataframe thead th {\n",
       "        text-align: right;\n",
       "    }\n",
       "</style>\n",
       "<table border=\"1\" class=\"dataframe\">\n",
       "  <thead>\n",
       "    <tr style=\"text-align: right;\">\n",
       "      <th></th>\n",
       "      <th>unique_id</th>\n",
       "      <th>ds</th>\n",
       "      <th>biomass</th>\n",
       "      <th>XGBRegressor</th>\n",
       "    </tr>\n",
       "  </thead>\n",
       "  <tbody>\n",
       "    <tr>\n",
       "      <th>0</th>\n",
       "      <td>0</td>\n",
       "      <td>2016-01-01</td>\n",
       "      <td>7.387925</td>\n",
       "      <td>9.189665</td>\n",
       "    </tr>\n",
       "    <tr>\n",
       "      <th>1</th>\n",
       "      <td>1</td>\n",
       "      <td>2016-01-01</td>\n",
       "      <td>40.431847</td>\n",
       "      <td>30.510427</td>\n",
       "    </tr>\n",
       "    <tr>\n",
       "      <th>2</th>\n",
       "      <td>2</td>\n",
       "      <td>2016-01-01</td>\n",
       "      <td>59.181629</td>\n",
       "      <td>68.885170</td>\n",
       "    </tr>\n",
       "    <tr>\n",
       "      <th>3</th>\n",
       "      <td>3</td>\n",
       "      <td>2016-01-01</td>\n",
       "      <td>74.536720</td>\n",
       "      <td>73.337280</td>\n",
       "    </tr>\n",
       "    <tr>\n",
       "      <th>4</th>\n",
       "      <td>4</td>\n",
       "      <td>2016-01-01</td>\n",
       "      <td>16.531315</td>\n",
       "      <td>18.095896</td>\n",
       "    </tr>\n",
       "  </tbody>\n",
       "</table>\n",
       "</div>"
      ],
      "text/plain": [
       "  unique_id         ds    biomass  XGBRegressor\n",
       "0         0 2016-01-01   7.387925      9.189665\n",
       "1         1 2016-01-01  40.431847     30.510427\n",
       "2         2 2016-01-01  59.181629     68.885170\n",
       "3         3 2016-01-01  74.536720     73.337280\n",
       "4         4 2016-01-01  16.531315     18.095896"
      ]
     },
     "execution_count": 84,
     "metadata": {},
     "output_type": "execute_result"
    }
   ],
   "source": [
    "eval_data=pd.merge(test_data,pred,on=['unique_id','ds'],how='inner')\n",
    "eval_data.head()"
   ]
  },
  {
   "cell_type": "code",
   "execution_count": null,
   "metadata": {},
   "outputs": [],
   "source": []
  },
  {
   "cell_type": "code",
   "execution_count": 89,
   "metadata": {},
   "outputs": [
    {
     "data": {
      "text/plain": [
       "50.748043210901635"
      ]
     },
     "execution_count": 89,
     "metadata": {},
     "output_type": "execute_result"
    }
   ],
   "source": [
    "#after prediction\n",
    "#lets evaluate the model\n",
    "#from sklearn.metrics import mean_absolute_percentage_error\n",
    "mean_absolute_error(eval_data['biomass'],eval_data['XGBRegressor'])\n",
    "#mean_absolute_percentage_error(eval_data['biomass'],eval_data['XGBRegressor'])"
   ]
  },
  {
   "cell_type": "code",
   "execution_count": 90,
   "metadata": {},
   "outputs": [
    {
     "data": {
      "text/html": [
       "<div>\n",
       "<style scoped>\n",
       "    .dataframe tbody tr th:only-of-type {\n",
       "        vertical-align: middle;\n",
       "    }\n",
       "\n",
       "    .dataframe tbody tr th {\n",
       "        vertical-align: top;\n",
       "    }\n",
       "\n",
       "    .dataframe thead th {\n",
       "        text-align: right;\n",
       "    }\n",
       "</style>\n",
       "<table border=\"1\" class=\"dataframe\">\n",
       "  <thead>\n",
       "    <tr style=\"text-align: right;\">\n",
       "      <th></th>\n",
       "      <th>biomass</th>\n",
       "      <th>XGBRegressor</th>\n",
       "    </tr>\n",
       "  </thead>\n",
       "  <tbody>\n",
       "    <tr>\n",
       "      <th>count</th>\n",
       "      <td>2418.000000</td>\n",
       "      <td>2418.000000</td>\n",
       "    </tr>\n",
       "    <tr>\n",
       "      <th>mean</th>\n",
       "      <td>113.089323</td>\n",
       "      <td>149.572845</td>\n",
       "    </tr>\n",
       "    <tr>\n",
       "      <th>std</th>\n",
       "      <td>102.092570</td>\n",
       "      <td>132.911072</td>\n",
       "    </tr>\n",
       "    <tr>\n",
       "      <th>min</th>\n",
       "      <td>0.000151</td>\n",
       "      <td>0.620507</td>\n",
       "    </tr>\n",
       "    <tr>\n",
       "      <th>25%</th>\n",
       "      <td>22.658495</td>\n",
       "      <td>27.762728</td>\n",
       "    </tr>\n",
       "    <tr>\n",
       "      <th>50%</th>\n",
       "      <td>91.721931</td>\n",
       "      <td>137.574821</td>\n",
       "    </tr>\n",
       "    <tr>\n",
       "      <th>75%</th>\n",
       "      <td>177.136295</td>\n",
       "      <td>223.885742</td>\n",
       "    </tr>\n",
       "    <tr>\n",
       "      <th>max</th>\n",
       "      <td>514.148987</td>\n",
       "      <td>835.606812</td>\n",
       "    </tr>\n",
       "  </tbody>\n",
       "</table>\n",
       "</div>"
      ],
      "text/plain": [
       "           biomass  XGBRegressor\n",
       "count  2418.000000   2418.000000\n",
       "mean    113.089323    149.572845\n",
       "std     102.092570    132.911072\n",
       "min       0.000151      0.620507\n",
       "25%      22.658495     27.762728\n",
       "50%      91.721931    137.574821\n",
       "75%     177.136295    223.885742\n",
       "max     514.148987    835.606812"
      ]
     },
     "execution_count": 90,
     "metadata": {},
     "output_type": "execute_result"
    }
   ],
   "source": [
    "eval_data.describe()"
   ]
  },
  {
   "cell_type": "code",
   "execution_count": 93,
   "metadata": {},
   "outputs": [
    {
     "ename": "SyntaxError",
     "evalue": "invalid syntax (<ipython-input-93-ee3ce8f0835c>, line 3)",
     "output_type": "error",
     "traceback": [
      "\u001b[1;36m  File \u001b[1;32m\"<ipython-input-93-ee3ce8f0835c>\"\u001b[1;36m, line \u001b[1;32m3\u001b[0m\n\u001b[1;33m    grid=GridSearchCv(params=[lags=[[1,2,3,4],[1,2,4,5],[2,3,4,5]],\u001b[0m\n\u001b[1;37m                                  ^\u001b[0m\n\u001b[1;31mSyntaxError\u001b[0m\u001b[1;31m:\u001b[0m invalid syntax\n"
     ]
    }
   ],
   "source": [
    "###Hypertuning\n",
    "from sklearn.model_selection import GridSearchCv\n",
    "grid=GridSearchCv(params=[lags=[[1,2,3,4],[1,2,4,5],[2,3,4,5]],\n",
    "                          lag_transformations=[[1:{(rolling_mean,2),(rolling_max,4),(rolling_min,3)}],\n",
    "                                               [2:{(rolling_mean,3),(rolling_min,3),(rolling_max,3)}]]])\n",
    "grid.fit(train_data)"
   ]
  },
  {
   "cell_type": "code",
   "execution_count": null,
   "metadata": {},
   "outputs": [],
   "source": [
    "###Hypertuning using optuna\n",
    "import optuna\n",
    "\n",
    "def objective(trial):\n",
    "    \"\"\"Function for calculating the error\n",
    "    for different combinations of hyperparameters\"\"\"\n",
    "    #parameters for XGBRegresor\n",
    "    learning_rate=trial.suggest_float()\n",
    "    min_child_rate=trial.suggest_int()\n",
    "    \n",
    "    \n",
    "    #parameter for mlforecast model\n",
    "    "
   ]
  }
 ],
 "metadata": {
  "kernelspec": {
   "display_name": "Python (learn-env)",
   "language": "python",
   "name": "learn-env"
  },
  "language_info": {
   "codemirror_mode": {
    "name": "ipython",
    "version": 3
   },
   "file_extension": ".py",
   "mimetype": "text/x-python",
   "name": "python",
   "nbconvert_exporter": "python",
   "pygments_lexer": "ipython3",
   "version": "3.8.5"
  }
 },
 "nbformat": 4,
 "nbformat_minor": 4
}
